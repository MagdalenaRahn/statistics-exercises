{
 "cells": [
  {
   "cell_type": "code",
   "execution_count": 1,
   "id": "92dadbe3",
   "metadata": {},
   "outputs": [],
   "source": [
    "import matplotlib.pyplot as plt\n",
    "import numpy as np\n",
    "from scipy import stats\n",
    "import viz # curriculum viz example code\n",
    "\n",
    "np.random.seed(123)\n",
    "\n",
    "# 30 November 2022 #"
   ]
  },
  {
   "cell_type": "markdown",
   "id": "28557c41",
   "metadata": {},
   "source": [
    "#### 1 / A bank found that the average number of cars waiting during the noon hour at a drive-up window follows a Poisson distribution, with a mean of two cars. \n",
    "\n",
    "\n",
    "   Make a chart of this distribution and answer these questions concerning the probability of cars waiting \n",
    "   at the drive-up window.  \n",
    "   a/  What is the probability that no cars drive up in the noon hour?  \n",
    "   b/  What is the probability that 3 or more cars come through the drive through?  \n",
    "   c/  How likely is it that the drive through gets at least 1 car?  \n",
    "\n"
   ]
  },
  {
   "cell_type": "code",
   "execution_count": 2,
   "id": "216addb4",
   "metadata": {},
   "outputs": [
    {
     "ename": "NameError",
     "evalue": "name 'λ' is not defined",
     "output_type": "error",
     "traceback": [
      "\u001b[0;31m---------------------------------------------------------------------------\u001b[0m",
      "\u001b[0;31mNameError\u001b[0m                                 Traceback (most recent call last)",
      "Input \u001b[0;32mIn [2]\u001b[0m, in \u001b[0;36m<cell line: 3>\u001b[0;34m()\u001b[0m\n\u001b[1;32m      1\u001b[0m \u001b[38;5;66;03m# a/ What is the probability that no cars drive up in the noon hour?\u001b[39;00m\n\u001b[0;32m----> 3\u001b[0m \u001b[38;5;28mprint\u001b[39m(\u001b[38;5;28mround\u001b[39m(stats\u001b[38;5;241m.\u001b[39mpoisson(\u001b[43mλ\u001b[49m)\u001b[38;5;241m.\u001b[39mpmf(\u001b[38;5;241m0\u001b[39m),\u001b[38;5;241m3\u001b[39m))\n",
      "\u001b[0;31mNameError\u001b[0m: name 'λ' is not defined"
     ]
    }
   ],
   "source": [
    "# a/ What is the probability that no cars drive up in the noon hour?\n",
    "\n",
    "print(round(stats.poisson(λ).pmf(0),3))\n",
    "# pmf because provided with a value and looking for a probability"
   ]
  },
  {
   "cell_type": "code",
   "execution_count": null,
   "id": "c237c5d8",
   "metadata": {},
   "outputs": [],
   "source": [
    "# b/ Three or more cars\n",
    "\n",
    "print(stats.poisson(λ).sf(2))\n",
    "\n",
    "# sf because greater than or equal to 3 = MORE THAN 2, and \n",
    "# providing it wiht a value and looking for a probability"
   ]
  },
  {
   "cell_type": "code",
   "execution_count": null,
   "id": "447ec486",
   "metadata": {},
   "outputs": [],
   "source": [
    "# c/ at least 1 car = 0 or more cars\n",
    "\n",
    "print(stats.poisson(λ).sf(0))"
   ]
  },
  {
   "cell_type": "code",
   "execution_count": null,
   "id": "2f7eb44e",
   "metadata": {},
   "outputs": [],
   "source": [
    "# c / alternate\n",
    "\n",
    "1 - stats.poisson(λ).cdf(0)"
   ]
  },
  {
   "cell_type": "code",
   "execution_count": null,
   "id": "52f88521",
   "metadata": {},
   "outputs": [],
   "source": [
    "# chart\n",
    "\n",
    "# λ is the given rate of 2 per hour\n",
    "λ = 2\n",
    "\n",
    "x = np.arange(0,11)\n",
    "\n",
    "y = stats.poisson(λ).pmf(x)\n",
    "y"
   ]
  },
  {
   "cell_type": "code",
   "execution_count": null,
   "id": "63fbdc30",
   "metadata": {},
   "outputs": [],
   "source": [
    "# chart\n",
    "\n",
    "# λ is the given rate of 2 per hour\n",
    "λ = 2\n",
    "\n",
    "x = np.arange(0,11)\n",
    "\n",
    "y = stats.poisson(λ).pmf(x)\n",
    "# y is the probability of\n",
    "\n",
    "\n",
    "plt.bar(x,y)\n",
    "plt.title('Poisson distribution with $λ = 2$')\n",
    "plt.xlabel('Number of cars during noon hour')\n",
    "plt.ylabel('P(x)');\n",
    "\n"
   ]
  },
  {
   "cell_type": "markdown",
   "id": "943a158c",
   "metadata": {},
   "source": [
    "#### 2 / Grades of State University graduates are normally distributed with a mean of 3.0 and a standard deviation of .3. Calculate the following:\n",
    "\n",
    "   a/ What grade point average is required to be in the top 5% of the graduating class?  \n",
    "   b/ What GPA constitutes the bottom 15% of the class?  \n",
    "   c/ An eccentric alumnus left scholarship money for students in the third decile from the bottom of their class. Determine the range of the third decile.  \n",
    "   Would a student with a 2.8 grade point average qualify for this scholarship?  \n",
    "   d/ If I have a GPA of 3.5, what percentile am I in?  \n",
    "\n"
   ]
  },
  {
   "cell_type": "code",
   "execution_count": null,
   "id": "d1872fc0",
   "metadata": {},
   "outputs": [],
   "source": [
    "# mean\n",
    "m = 3.0\n",
    "\n",
    "# standard deviation\n",
    "s = 0.3\n",
    "\n",
    "# Define the normal distribution\n",
    "class_GPA = stats.norm(m, s)\n",
    "\n",
    "## Find the value where 95% of the values / variables are less than unknown-value-X : Use PPF.\n",
    "top_5_pc_cutoff = class_GPA.ppf(0.95)\n",
    "\n",
    "# unknown value : what is cutoff point / interval for the top 5% of GPAs ?\n",
    "# Use the PPF to find the cutt-off where 95% of the data are less than the cut-off\n"
   ]
  },
  {
   "cell_type": "code",
   "execution_count": null,
   "id": "7e7a0d92",
   "metadata": {},
   "outputs": [],
   "source": [
    "# a/ What grade point average is required to be in the top 5% of the graduating class?\n",
    "\n",
    "top_5_pc_cutoff = class_GPA.ppf(0.95)\n",
    "round(top_5_pc_cutoff, 2)\n",
    "\n",
    "# or, class_GPA.isf(0.05), which is the opposite calculation"
   ]
  },
  {
   "cell_type": "code",
   "execution_count": null,
   "id": "2606e491",
   "metadata": {},
   "outputs": [],
   "source": [
    "1 - class_GPA.ppf(0.95)"
   ]
  },
  {
   "cell_type": "code",
   "execution_count": null,
   "id": "b382f4aa",
   "metadata": {},
   "outputs": [],
   "source": []
  },
  {
   "cell_type": "code",
   "execution_count": null,
   "id": "9b511666",
   "metadata": {},
   "outputs": [],
   "source": [
    "# b/ What GPA constitutes the bottom 15% of the class?\n",
    "\n",
    "# Use the PPF to find the cutt-off where 15% of the data are less than the cut-off\n",
    "\n",
    "bottom_15_pc_cutoff = class_GPA.ppf(0.15)\n",
    "round(bottom_15_pc_cutoff, 2)"
   ]
  },
  {
   "cell_type": "code",
   "execution_count": null,
   "id": "aa2b5822",
   "metadata": {},
   "outputs": [],
   "source": [
    "# alternate\n",
    "\n",
    "class_GPA.isf(0.85)"
   ]
  },
  {
   "cell_type": "code",
   "execution_count": null,
   "id": "f4208e19",
   "metadata": {},
   "outputs": [],
   "source": [
    "# c/ An eccentric alumnus left scholarship money for students in the third decile from \n",
    "    # the bottom of their class. Determine the range of the third decile.\n",
    "    # Would a student with a 2.8 grade point average qualify for this scholarship ?\n",
    "    \n",
    "bottom_3rd_quartile = class_GPA.ppf(0.30)\n",
    "bottom_2nd_quartile = class_GPA.ppf(0.20)\n",
    "\n",
    "print(bottom_3rd_quartile)\n",
    "print(bottom_2nd_quartile)"
   ]
  },
  {
   "cell_type": "code",
   "execution_count": null,
   "id": "e8ecc28d",
   "metadata": {},
   "outputs": [],
   "source": [
    "GPA_range = class_GPA.ppf([0.20, 0.30])\n",
    "GPA_range"
   ]
  },
  {
   "cell_type": "code",
   "execution_count": null,
   "id": "5ad64879",
   "metadata": {},
   "outputs": [],
   "source": [
    "(GPA_range[0] < 2.8) and (GPA_range[1] > 2.8)\n",
    "\n",
    "# the GPA in the 1st [0] range is less than 2.8 and the GPA is the 2nd range [1] is greater than 2.8"
   ]
  },
  {
   "cell_type": "code",
   "execution_count": null,
   "id": "b220bb25",
   "metadata": {},
   "outputs": [],
   "source": [
    "class_GPA.cdf(2.8)\n",
    "\n",
    "#returns that the GPA of 2.8 is in the bottom 25th percent of grades, thus in the third decile"
   ]
  },
  {
   "cell_type": "code",
   "execution_count": null,
   "id": "1fd81e4a",
   "metadata": {},
   "outputs": [],
   "source": []
  },
  {
   "cell_type": "code",
   "execution_count": null,
   "id": "06a5c24b",
   "metadata": {},
   "outputs": [],
   "source": [
    "# d/ If I have a GPA of 3.5, what percentile am I in? \n",
    "\n",
    "round(class_GPA.cdf(3.5), 3)"
   ]
  },
  {
   "cell_type": "code",
   "execution_count": null,
   "id": "bb827ee9",
   "metadata": {},
   "outputs": [],
   "source": [
    "1 - class_GPA.sf(3.5)\n"
   ]
  },
  {
   "cell_type": "markdown",
   "id": "1b3256fe",
   "metadata": {},
   "source": [
    "#### 3 / A marketing website has an average click-through rate of 2%. One day they observe 4326 visitors and 97 click-throughs.   \n",
    "How likely is it that this many people or more click through?"
   ]
  },
  {
   "cell_type": "code",
   "execution_count": null,
   "id": "335fdcc8",
   "metadata": {},
   "outputs": [],
   "source": [
    "# A 2pc click-through rate of 4326 people :\n",
    "\n",
    "4326*0.02\n",
    "\n",
    "# equals 86.52 people, cf the 97 click-throughs on a given day"
   ]
  },
  {
   "cell_type": "code",
   "execution_count": null,
   "id": "8b32e756",
   "metadata": {},
   "outputs": [],
   "source": [
    "k = 97\n",
    "# k : number of given successes\n",
    "\n",
    "mu = 86.52\n",
    "# mu : average of successes\n",
    "\n",
    "# this is not the correct method\n",
    "\n",
    "# stats.poisson.sf(k = 97, mu = 86.52)\n",
    "\n",
    "p = 0.02\n",
    "n_trials = 4326\n",
    "\n",
    "λ = n_trials * p\n",
    "λ\n",
    "\n",
    "# λ = 86.52\n"
   ]
  },
  {
   "cell_type": "code",
   "execution_count": null,
   "id": "51d83135",
   "metadata": {},
   "outputs": [],
   "source": []
  },
  {
   "cell_type": "code",
   "execution_count": null,
   "id": "b676a996",
   "metadata": {},
   "outputs": [],
   "source": [
    "\n",
    "\n",
    "stats.poisson(86.52).sf(96)\n",
    "\n",
    "# .sf starts at 96 and counts from 97 on up\n"
   ]
  },
  {
   "cell_type": "code",
   "execution_count": null,
   "id": "e1403d59",
   "metadata": {},
   "outputs": [],
   "source": []
  },
  {
   "cell_type": "code",
   "execution_count": null,
   "id": "c708b527",
   "metadata": {},
   "outputs": [],
   "source": [
    "# this is the correct way \n",
    "\n",
    "stats.binom(4326, 0.02).sf(96)\n",
    "\n",
    "# provided a value of 97\n",
    "# looking for GREATER THAN = .sf(), starting at the number below the provided value"
   ]
  },
  {
   "cell_type": "code",
   "execution_count": null,
   "id": "24820af2",
   "metadata": {},
   "outputs": [],
   "source": []
  },
  {
   "cell_type": "code",
   "execution_count": null,
   "id": "731a4ff6",
   "metadata": {},
   "outputs": [],
   "source": [
    "# this is not the correct method\n",
    "\n",
    "clicks = stats.poisson.rvs(mu=86.52, size=4326)\n",
    "clicks\n",
    "\n",
    "# this is just for fun"
   ]
  },
  {
   "cell_type": "code",
   "execution_count": null,
   "id": "1572dc6f",
   "metadata": {},
   "outputs": [],
   "source": []
  },
  {
   "cell_type": "markdown",
   "id": "3c0e1e33",
   "metadata": {},
   "source": [
    "#### 4 / You are working on some statistics homework consisting of 100 questions where all of the answers are a probability rounded to the hundreths place. Looking to save time, you put down random probabilities as the answer to each question.\n",
    "  \n",
    "    What is the probability that at least one of your first 60 answers is correct?\n",
    "\n"
   ]
  },
  {
   "cell_type": "code",
   "execution_count": null,
   "id": "ef0757e1",
   "metadata": {},
   "outputs": [],
   "source": [
    "### Two outcomes\n",
    "### Use the probability of success\n",
    "### Number of trials\n",
    "\n",
    "### A 100-question test, each with 1 possible answer [p(correct answer) = 1/100 = 0.01]\n",
    "### The question can be answered either correctly, or incorrectly. There's no mid-correct.\n",
    "\n",
    "stats.binom(60, 0.01).sf(0)\n",
    "\n",
    "## starts at 0 and takes everything above it"
   ]
  },
  {
   "cell_type": "code",
   "execution_count": null,
   "id": "3b4ba26d",
   "metadata": {},
   "outputs": [],
   "source": [
    "n_questions = 60\n",
    "p_correct = 0.01\n",
    "\n",
    "stats.binom(n_questions, p_correct).sf(0)"
   ]
  },
  {
   "cell_type": "markdown",
   "id": "300c2729",
   "metadata": {},
   "source": [
    "#### 5 / The Codeup staff tends to get upset when the student break area is not cleaned up.   \n",
    "Suppose that there's a 3% chance that any one student cleans the break area when visiting it, and, on any given day, about 90% of the 3 active cohorts of 22 students visit the break area.  \n",
    " a /  How likely is it that the break area gets cleaned up each day?   \n",
    " b /  How likely is it that it goes two days without getting cleaned up? All week? "
   ]
  },
  {
   "cell_type": "code",
   "execution_count": null,
   "id": "1783f23f",
   "metadata": {},
   "outputs": [],
   "source": [
    "n_students = 3 * 22\n",
    "p_kitchen_use = 0.90\n",
    "p_stu_clean_kitchen = 0.03\n"
   ]
  },
  {
   "cell_type": "code",
   "execution_count": null,
   "id": "9fe279a1",
   "metadata": {},
   "outputs": [],
   "source": [
    "students = round(0.9 * 22 * 3)\n",
    "students\n",
    "# same as 'used' variable"
   ]
  },
  {
   "cell_type": "code",
   "execution_count": null,
   "id": "e0bcf310",
   "metadata": {},
   "outputs": [],
   "source": [
    "clean = stats.binom(used, p_stu_clean_kitchen).sf(0)\n",
    "clean\n",
    "\n",
    "# alternate arrangement of formula"
   ]
  },
  {
   "cell_type": "code",
   "execution_count": null,
   "id": "a699c2d5",
   "metadata": {},
   "outputs": [],
   "source": []
  },
  {
   "cell_type": "code",
   "execution_count": null,
   "id": "3a5571de",
   "metadata": {},
   "outputs": [],
   "source": [
    "used = round(n_students * p_kitchen_use)\n",
    "used"
   ]
  },
  {
   "cell_type": "code",
   "execution_count": null,
   "id": "bc98ff5f",
   "metadata": {},
   "outputs": [],
   "source": [
    "# a/a\n",
    "round(stats.binom(int(used), 0.03).sf(0), 2)"
   ]
  },
  {
   "cell_type": "code",
   "execution_count": null,
   "id": "fe5669b5",
   "metadata": {},
   "outputs": [],
   "source": [
    "stats.binom(used, 0.03).sf(0)"
   ]
  },
  {
   "cell_type": "code",
   "execution_count": null,
   "id": "5321ce64",
   "metadata": {},
   "outputs": [],
   "source": [
    "# a/b\n",
    "stats.binom.sf(0, used, 0.03)"
   ]
  },
  {
   "cell_type": "code",
   "execution_count": null,
   "id": "b4be72ba",
   "metadata": {},
   "outputs": [],
   "source": [
    "# b/a\n",
    "\n",
    "stats.binom(118, 0.03).cdf(0)\n",
    "\n",
    "# 118 events (n_students * 2 days) and chance of no cleaning over two days (.cdf(0))"
   ]
  },
  {
   "cell_type": "code",
   "execution_count": null,
   "id": "44a3bcab",
   "metadata": {},
   "outputs": [],
   "source": [
    "#b/b\n",
    "\n",
    "stats.binom(118, 0.03).pmf(0)"
   ]
  },
  {
   "cell_type": "code",
   "execution_count": null,
   "id": "f0640f6c",
   "metadata": {},
   "outputs": [],
   "source": [
    "# c/c\n",
    "\n",
    "stats.binom((used*5), 0.03).pmf(0)\n",
    "\n",
    "# no cleaning (.pmf(0)) occuring over 5 days"
   ]
  },
  {
   "cell_type": "code",
   "execution_count": null,
   "id": "6df1ea81",
   "metadata": {},
   "outputs": [],
   "source": []
  },
  {
   "cell_type": "markdown",
   "id": "40d816e0",
   "metadata": {},
   "source": [
    "#### 6 / You want to get lunch at La Panaderia, but notice that the line is usually very long at lunchtime.  \n",
    "After several weeks of careful observation, you notice that the average number of people in line when your lunch break starts is normally distributed with a mean of 15 and standard deviation of 3.   \n",
    "\n",
    "If it takes 2 minutes for each person to order, and 10 minutes from ordering to getting your food, what is the likelihood that you have at least 15 minutes left to eat your food before you have to go back to class?  \n",
    "(Assume you have one hour for lunch, and ignore travel time to and from La Panaderia.)"
   ]
  },
  {
   "cell_type": "code",
   "execution_count": null,
   "id": "c673b191",
   "metadata": {},
   "outputs": [],
   "source": [
    "# MEAN queue length * time for each order in miinutes\n",
    "m = 15 * 2\n",
    "\n",
    "# Standard deviation, in people on line * time per stddev-person in minutes\n",
    "s = 3 * 2\n",
    "\n",
    "# Define the normal distribution\n",
    "avg_queue = stats.norm(m, s)\n",
    "\n",
    "# average lunch, order, eat, cook times, in minutes\n",
    "total_lunch_time = 60\n",
    "\n",
    "order_time = 2\n",
    "\n",
    "eat_time = 15\n",
    "\n",
    "# time to wait for food after ordering, in minutes\n",
    "wait_for_food = 10"
   ]
  },
  {
   "cell_type": "code",
   "execution_count": null,
   "id": "b901c8fd",
   "metadata": {},
   "outputs": [],
   "source": [
    "max_wait = total_lunch_time - order_time - eat_time - wait_for_food\n",
    "max_wait\n",
    "\n",
    "# returns minutes"
   ]
  },
  {
   "cell_type": "code",
   "execution_count": null,
   "id": "7067c5c4",
   "metadata": {},
   "outputs": [],
   "source": [
    "stats.norm(m, s).cdf(max_wait)\n",
    "\n",
    "# returns probability that the wait time will be less than or equal to 33 minutes"
   ]
  },
  {
   "cell_type": "code",
   "execution_count": null,
   "id": "7e826839",
   "metadata": {},
   "outputs": [],
   "source": []
  },
  {
   "cell_type": "markdown",
   "id": "17b70875",
   "metadata": {},
   "source": [
    "#### 7 / Connect to the employees database and find the average salary of current employees, along with the standard deviation. For the following questions, calculate the answer based on modeling the employees salaries with a normal distribution defined by the calculated mean and standard deviation then compare this answer to the actual values present in the salaries dataset.\n",
    "\n",
    "    a / What percent of employees earn less than 60,000?\n",
    "    b / What percent of employees earn more than 95,000?\n",
    "    c / What percent of employees earn between 65,000 and 80,000?\n",
    "    d / What do the top 5% of employees make?\n"
   ]
  },
  {
   "cell_type": "code",
   "execution_count": 20,
   "id": "5f56f073",
   "metadata": {},
   "outputs": [
    {
     "data": {
      "text/html": [
       "<div>\n",
       "<style scoped>\n",
       "    .dataframe tbody tr th:only-of-type {\n",
       "        vertical-align: middle;\n",
       "    }\n",
       "\n",
       "    .dataframe tbody tr th {\n",
       "        vertical-align: top;\n",
       "    }\n",
       "\n",
       "    .dataframe thead th {\n",
       "        text-align: right;\n",
       "    }\n",
       "</style>\n",
       "<table border=\"1\" class=\"dataframe\">\n",
       "  <thead>\n",
       "    <tr style=\"text-align: right;\">\n",
       "      <th></th>\n",
       "      <th>dept_no</th>\n",
       "      <th>dept_name</th>\n",
       "    </tr>\n",
       "  </thead>\n",
       "  <tbody>\n",
       "    <tr>\n",
       "      <th>0</th>\n",
       "      <td>d009</td>\n",
       "      <td>Customer Service</td>\n",
       "    </tr>\n",
       "    <tr>\n",
       "      <th>1</th>\n",
       "      <td>d005</td>\n",
       "      <td>Development</td>\n",
       "    </tr>\n",
       "    <tr>\n",
       "      <th>2</th>\n",
       "      <td>d002</td>\n",
       "      <td>Finance</td>\n",
       "    </tr>\n",
       "    <tr>\n",
       "      <th>3</th>\n",
       "      <td>d003</td>\n",
       "      <td>Human Resources</td>\n",
       "    </tr>\n",
       "    <tr>\n",
       "      <th>4</th>\n",
       "      <td>d001</td>\n",
       "      <td>Marketing</td>\n",
       "    </tr>\n",
       "    <tr>\n",
       "      <th>5</th>\n",
       "      <td>d004</td>\n",
       "      <td>Production</td>\n",
       "    </tr>\n",
       "    <tr>\n",
       "      <th>6</th>\n",
       "      <td>d006</td>\n",
       "      <td>Quality Management</td>\n",
       "    </tr>\n",
       "    <tr>\n",
       "      <th>7</th>\n",
       "      <td>d008</td>\n",
       "      <td>Research</td>\n",
       "    </tr>\n",
       "    <tr>\n",
       "      <th>8</th>\n",
       "      <td>d007</td>\n",
       "      <td>Sales</td>\n",
       "    </tr>\n",
       "  </tbody>\n",
       "</table>\n",
       "</div>"
      ],
      "text/plain": [
       "  dept_no           dept_name\n",
       "0    d009    Customer Service\n",
       "1    d005         Development\n",
       "2    d002             Finance\n",
       "3    d003     Human Resources\n",
       "4    d001           Marketing\n",
       "5    d004          Production\n",
       "6    d006  Quality Management\n",
       "7    d008            Research\n",
       "8    d007               Sales"
      ]
     },
     "execution_count": 20,
     "metadata": {},
     "output_type": "execute_result"
    }
   ],
   "source": [
    "import pandas as pd\n",
    "from env import host, username, password\n",
    "\n",
    "url = f'mysql+pymysql://{username}:{password}@{host}/employees'\n",
    "pd.read_sql('SELECT * FROM departments', url)"
   ]
  },
  {
   "cell_type": "code",
   "execution_count": 22,
   "id": "7ee3f0db",
   "metadata": {},
   "outputs": [
    {
     "data": {
      "text/html": [
       "<div>\n",
       "<style scoped>\n",
       "    .dataframe tbody tr th:only-of-type {\n",
       "        vertical-align: middle;\n",
       "    }\n",
       "\n",
       "    .dataframe tbody tr th {\n",
       "        vertical-align: top;\n",
       "    }\n",
       "\n",
       "    .dataframe thead th {\n",
       "        text-align: right;\n",
       "    }\n",
       "</style>\n",
       "<table border=\"1\" class=\"dataframe\">\n",
       "  <thead>\n",
       "    <tr style=\"text-align: right;\">\n",
       "      <th></th>\n",
       "      <th>emp_no</th>\n",
       "      <th>salary</th>\n",
       "      <th>from_date</th>\n",
       "      <th>to_date</th>\n",
       "    </tr>\n",
       "  </thead>\n",
       "  <tbody>\n",
       "    <tr>\n",
       "      <th>0</th>\n",
       "      <td>10001</td>\n",
       "      <td>88958</td>\n",
       "      <td>2002-06-22</td>\n",
       "      <td>9999-01-01</td>\n",
       "    </tr>\n",
       "    <tr>\n",
       "      <th>1</th>\n",
       "      <td>10002</td>\n",
       "      <td>72527</td>\n",
       "      <td>2001-08-02</td>\n",
       "      <td>9999-01-01</td>\n",
       "    </tr>\n",
       "    <tr>\n",
       "      <th>2</th>\n",
       "      <td>10003</td>\n",
       "      <td>43311</td>\n",
       "      <td>2001-12-01</td>\n",
       "      <td>9999-01-01</td>\n",
       "    </tr>\n",
       "    <tr>\n",
       "      <th>3</th>\n",
       "      <td>10004</td>\n",
       "      <td>74057</td>\n",
       "      <td>2001-11-27</td>\n",
       "      <td>9999-01-01</td>\n",
       "    </tr>\n",
       "    <tr>\n",
       "      <th>4</th>\n",
       "      <td>10005</td>\n",
       "      <td>94692</td>\n",
       "      <td>2001-09-09</td>\n",
       "      <td>9999-01-01</td>\n",
       "    </tr>\n",
       "  </tbody>\n",
       "</table>\n",
       "</div>"
      ],
      "text/plain": [
       "   emp_no  salary   from_date     to_date\n",
       "0   10001   88958  2002-06-22  9999-01-01\n",
       "1   10002   72527  2001-08-02  9999-01-01\n",
       "2   10003   43311  2001-12-01  9999-01-01\n",
       "3   10004   74057  2001-11-27  9999-01-01\n",
       "4   10005   94692  2001-09-09  9999-01-01"
      ]
     },
     "execution_count": 22,
     "metadata": {},
     "output_type": "execute_result"
    }
   ],
   "source": [
    "url = f'mysql+pymysql://{username}:{password}@{host}/employees'\n",
    "salaries = pd.read_sql('SELECT * FROM salaries where to_date >now()', url)\n",
    "salaries.head()"
   ]
  },
  {
   "cell_type": "code",
   "execution_count": 31,
   "id": "d3e31d51",
   "metadata": {},
   "outputs": [
    {
     "data": {
      "text/plain": [
       "72012.24"
      ]
     },
     "execution_count": 31,
     "metadata": {},
     "output_type": "execute_result"
    }
   ],
   "source": [
    "# mean salary\n",
    "mean_salary = salaries.salary.mean()\n",
    "round(mean_salary, 2)"
   ]
  },
  {
   "cell_type": "code",
   "execution_count": 30,
   "id": "c04b2f4a",
   "metadata": {},
   "outputs": [
    {
     "data": {
      "text/plain": [
       "17310.0"
      ]
     },
     "execution_count": 30,
     "metadata": {},
     "output_type": "execute_result"
    }
   ],
   "source": [
    "# standard deviation of salaries\n",
    "\n",
    "stddev_salary = salaries.salary.std()\n",
    "round(stddev_salary, 2)"
   ]
  },
  {
   "cell_type": "code",
   "execution_count": 33,
   "id": "23c54acd",
   "metadata": {},
   "outputs": [
    {
     "data": {
      "text/plain": [
       "0.2438393099761686"
      ]
     },
     "execution_count": 33,
     "metadata": {},
     "output_type": "execute_result"
    }
   ],
   "source": [
    "#    a / What percent of employees earn less than 60,000?\n",
    "\n",
    "stats.norm(mean_salary, stddev_salary).cdf(59999)"
   ]
  },
  {
   "cell_type": "code",
   "execution_count": null,
   "id": "8c099d7b",
   "metadata": {},
   "outputs": [],
   "source": []
  },
  {
   "cell_type": "code",
   "execution_count": 35,
   "id": "1bbbd366",
   "metadata": {},
   "outputs": [
    {
     "data": {
      "text/plain": [
       "0.09208819199804053"
      ]
     },
     "execution_count": 35,
     "metadata": {},
     "output_type": "execute_result"
    }
   ],
   "source": [
    "#    b / What percent of employees earn more than 95,000?\n",
    "\n",
    "stats.norm(mean_salary, stddev_salary).sf(95000)"
   ]
  },
  {
   "cell_type": "code",
   "execution_count": 37,
   "id": "d7b6e1b4",
   "metadata": {},
   "outputs": [
    {
     "data": {
      "text/plain": [
       "(0.6572970780493486, 0.677763490495318)"
      ]
     },
     "execution_count": 37,
     "metadata": {},
     "output_type": "execute_result"
    }
   ],
   "source": [
    "#    c / What percent of employees earn between 65,000 and 80,000?\n",
    "\n",
    "\n",
    "more_than = stats.norm(mean_salary, stddev_salary).sf(65000)\n",
    "less_than = stats.norm(mean_salary, stddev_salary).cdf(80000)\n",
    "\n",
    "more_than, less_than"
   ]
  },
  {
   "cell_type": "code",
   "execution_count": 39,
   "id": "37591853",
   "metadata": {},
   "outputs": [
    {
     "data": {
      "text/plain": [
       "array([0.33506057])"
      ]
     },
     "execution_count": 39,
     "metadata": {},
     "output_type": "execute_result"
    }
   ],
   "source": [
    "# c, alt\n",
    "\n",
    "np.diff(stats.norm(mean_salary, stddev_salary).cdf([65000, 80000]))"
   ]
  },
  {
   "cell_type": "code",
   "execution_count": 38,
   "id": "c0b4ad10",
   "metadata": {},
   "outputs": [
    {
     "data": {
      "text/plain": [
       "0.3350605685446666"
      ]
     },
     "execution_count": 38,
     "metadata": {},
     "output_type": "execute_result"
    }
   ],
   "source": [
    "# About 33.5pc of employees earn between 65k and 80k\n",
    "\n",
    "stats.norm(mean_salary, stddev_salary).cdf(80000) - stats.norm(mean_salary, stddev_salary).cdf(65000)"
   ]
  },
  {
   "cell_type": "code",
   "execution_count": null,
   "id": "259ec8bb",
   "metadata": {},
   "outputs": [],
   "source": []
  },
  {
   "cell_type": "code",
   "execution_count": 44,
   "id": "9368a47e",
   "metadata": {},
   "outputs": [
    {
     "data": {
      "text/plain": [
       "100484.64"
      ]
     },
     "execution_count": 44,
     "metadata": {},
     "output_type": "execute_result"
    }
   ],
   "source": [
    "#    d / What do the top 5% of employees make?\n",
    "\n",
    "\n",
    "round(stats.norm(mean_salary, stddev_salary).isf(0.05), 2)"
   ]
  },
  {
   "cell_type": "code",
   "execution_count": 42,
   "id": "430ef057",
   "metadata": {},
   "outputs": [
    {
     "data": {
      "text/plain": [
       "100484.64454102775"
      ]
     },
     "execution_count": 42,
     "metadata": {},
     "output_type": "execute_result"
    }
   ],
   "source": [
    "# d,, alt\n",
    "\n",
    "stats.norm(mean_salary, stddev_salary).ppf(0.95)"
   ]
  },
  {
   "cell_type": "code",
   "execution_count": 43,
   "id": "b54d2047",
   "metadata": {},
   "outputs": [
    {
     "data": {
      "text/plain": [
       "104225.84999999998"
      ]
     },
     "execution_count": 43,
     "metadata": {},
     "output_type": "execute_result"
    }
   ],
   "source": [
    "# d,, alt\n",
    "\n",
    "salaries.salary.quantile(0.95)"
   ]
  },
  {
   "cell_type": "code",
   "execution_count": null,
   "id": "9e64c289",
   "metadata": {},
   "outputs": [],
   "source": []
  }
 ],
 "metadata": {
  "kernelspec": {
   "display_name": "Python 3 (ipykernel)",
   "language": "python",
   "name": "python3"
  },
  "language_info": {
   "codemirror_mode": {
    "name": "ipython",
    "version": 3
   },
   "file_extension": ".py",
   "mimetype": "text/x-python",
   "name": "python",
   "nbconvert_exporter": "python",
   "pygments_lexer": "ipython3",
   "version": "3.9.13"
  }
 },
 "nbformat": 4,
 "nbformat_minor": 5
}
