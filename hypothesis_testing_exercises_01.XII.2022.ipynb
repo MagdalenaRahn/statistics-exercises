{
 "cells": [
  {
   "cell_type": "markdown",
   "id": "d268b001",
   "metadata": {},
   "source": [
    "####  1 / For each of the following questions, formulate a null and alternative hypothesis (be as specific as you can be), then give an example of what a true positive, true negative, type I and type II errors would look like. \n",
    "\n",
    "Note that some of the questions are intentionally phrased in a vague way. It is your job to reword these as more precise questions that could be tested.\n",
    "\n"
   ]
  },
  {
   "cell_type": "markdown",
   "id": "cb27745c",
   "metadata": {},
   "source": [
    "### 1    a /  Has the network latency gone up since we switched internet service providers?  \n",
    "\n",
    "\n",
    "#### Null Hypothesis : Our network latency has remained consistent throughout time.\n",
    "*Prefer : Latency has either remained consistend or decreased since switching ISPs.*\n",
    "\n",
    "#### Alternate Hypothesis : There has been a change in our network latency since changing ISPs.\n",
    "*Prefer : Latency has increased.*\n",
    "\n",
    "- True Positive : Network latency has slowed down / sped up since changing ISPs, and, thus, thinking that there has been no change is erroneous.  \n",
    "- True Negative : There has been a change in our network latency recently, but it's not due to having changed ISPs.  \n",
    "- Type I Error (False Positive) : It doesn't make sense that diagnostic tests say that our network latency is the same as it had been ; I'm sure that actions are taking longer to perform.  \n",
    "- Type II Error (False Negative) : Everything's hunky-dory. What ? No, same as always.  \n"
   ]
  },
  {
   "cell_type": "markdown",
   "id": "7f5de1d7",
   "metadata": {},
   "source": [
    "### 2    b /  Is the website redesign any good?  \n",
    "\n",
    "#### Null Hypothesis : The website redesign is as successful or less successful in capturing hits than the previous version.\n",
    "#### Alternate Hypothesis : The website redesign will have higher click-through rates than the previous version.\n",
    "\n",
    "- True Positive : The redesign provides a much more intuitive and visually attractive website.  \n",
    "- True Negative : Even though the redesigned website looks a lot better, the results are the same as before.  \n",
    "- Type I Error (False Positive) : They say that there's no difference in click-through numbers, but it seems that people are more excited to visit our website.  \n",
    "- Type II Error (False Negative) : The numbers might not have changed since the redesign, so the redesign was a waste of money.  "
   ]
  },
  {
   "cell_type": "markdown",
   "id": "27f22985",
   "metadata": {},
   "source": [
    "### 3    c /  Is our television ad driving more sales?  \n",
    "\n",
    "#### Null Hypothesis : The television advert has a negative or no influence on sales rates. (Sales rates did not increase.)\n",
    "#### Alternate Hypothesis : Sales have increased since the television advert started airing.\n",
    "\n",
    "- True Positive : More people are buying our product and visiting our shops.  \n",
    "- True Negative : More people are visiting our shops, so they must be intending to buy our product more, even though the numbers don't match up. Maybe they'll be back next week.  \n",
    "- Type I Error (False Positive) :  People visiting our shops mention the TV advert, so they must be buying more.\n",
    "- Type II Error (False Negative) : I'm sure that sales have increased. My mom said that she bought something there yesterday."
   ]
  },
  {
   "cell_type": "code",
   "execution_count": null,
   "id": "e10b88d1",
   "metadata": {},
   "outputs": [],
   "source": []
  }
 ],
 "metadata": {
  "kernelspec": {
   "display_name": "Python 3 (ipykernel)",
   "language": "python",
   "name": "python3"
  },
  "language_info": {
   "codemirror_mode": {
    "name": "ipython",
    "version": 3
   },
   "file_extension": ".py",
   "mimetype": "text/x-python",
   "name": "python",
   "nbconvert_exporter": "python",
   "pygments_lexer": "ipython3",
   "version": "3.9.13"
  }
 },
 "nbformat": 4,
 "nbformat_minor": 5
}
