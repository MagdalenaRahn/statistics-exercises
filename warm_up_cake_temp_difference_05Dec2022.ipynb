{
 "cells": [
  {
   "cell_type": "markdown",
   "id": "427d6907",
   "metadata": {},
   "source": [
    "### Warm-Up Exercise : Temperature Difference In Cake Recipes\n",
    "\n",
    "2022 05 December"
   ]
  },
  {
   "cell_type": "code",
   "execution_count": 13,
   "id": "f9f2508f",
   "metadata": {},
   "outputs": [
    {
     "data": {
      "text/html": [
       "<div>\n",
       "<style scoped>\n",
       "    .dataframe tbody tr th:only-of-type {\n",
       "        vertical-align: middle;\n",
       "    }\n",
       "\n",
       "    .dataframe tbody tr th {\n",
       "        vertical-align: top;\n",
       "    }\n",
       "\n",
       "    .dataframe thead th {\n",
       "        text-align: right;\n",
       "    }\n",
       "</style>\n",
       "<table border=\"1\" class=\"dataframe\">\n",
       "  <thead>\n",
       "    <tr style=\"text-align: right;\">\n",
       "      <th></th>\n",
       "      <th>replicate</th>\n",
       "      <th>recipe</th>\n",
       "      <th>temperature</th>\n",
       "      <th>angle</th>\n",
       "      <th>temp</th>\n",
       "    </tr>\n",
       "  </thead>\n",
       "  <tbody>\n",
       "    <tr>\n",
       "      <th>1</th>\n",
       "      <td>1</td>\n",
       "      <td>A</td>\n",
       "      <td>175</td>\n",
       "      <td>42</td>\n",
       "      <td>175</td>\n",
       "    </tr>\n",
       "    <tr>\n",
       "      <th>2</th>\n",
       "      <td>1</td>\n",
       "      <td>A</td>\n",
       "      <td>185</td>\n",
       "      <td>46</td>\n",
       "      <td>185</td>\n",
       "    </tr>\n",
       "    <tr>\n",
       "      <th>3</th>\n",
       "      <td>1</td>\n",
       "      <td>A</td>\n",
       "      <td>195</td>\n",
       "      <td>47</td>\n",
       "      <td>195</td>\n",
       "    </tr>\n",
       "    <tr>\n",
       "      <th>4</th>\n",
       "      <td>1</td>\n",
       "      <td>A</td>\n",
       "      <td>205</td>\n",
       "      <td>39</td>\n",
       "      <td>205</td>\n",
       "    </tr>\n",
       "    <tr>\n",
       "      <th>5</th>\n",
       "      <td>1</td>\n",
       "      <td>A</td>\n",
       "      <td>215</td>\n",
       "      <td>53</td>\n",
       "      <td>215</td>\n",
       "    </tr>\n",
       "    <tr>\n",
       "      <th>...</th>\n",
       "      <td>...</td>\n",
       "      <td>...</td>\n",
       "      <td>...</td>\n",
       "      <td>...</td>\n",
       "      <td>...</td>\n",
       "    </tr>\n",
       "    <tr>\n",
       "      <th>266</th>\n",
       "      <td>15</td>\n",
       "      <td>C</td>\n",
       "      <td>185</td>\n",
       "      <td>28</td>\n",
       "      <td>185</td>\n",
       "    </tr>\n",
       "    <tr>\n",
       "      <th>267</th>\n",
       "      <td>15</td>\n",
       "      <td>C</td>\n",
       "      <td>195</td>\n",
       "      <td>25</td>\n",
       "      <td>195</td>\n",
       "    </tr>\n",
       "    <tr>\n",
       "      <th>268</th>\n",
       "      <td>15</td>\n",
       "      <td>C</td>\n",
       "      <td>205</td>\n",
       "      <td>25</td>\n",
       "      <td>205</td>\n",
       "    </tr>\n",
       "    <tr>\n",
       "      <th>269</th>\n",
       "      <td>15</td>\n",
       "      <td>C</td>\n",
       "      <td>215</td>\n",
       "      <td>31</td>\n",
       "      <td>215</td>\n",
       "    </tr>\n",
       "    <tr>\n",
       "      <th>270</th>\n",
       "      <td>15</td>\n",
       "      <td>C</td>\n",
       "      <td>225</td>\n",
       "      <td>25</td>\n",
       "      <td>225</td>\n",
       "    </tr>\n",
       "  </tbody>\n",
       "</table>\n",
       "<p>270 rows × 5 columns</p>\n",
       "</div>"
      ],
      "text/plain": [
       "     replicate recipe  temperature  angle  temp\n",
       "1            1      A          175     42   175\n",
       "2            1      A          185     46   185\n",
       "3            1      A          195     47   195\n",
       "4            1      A          205     39   205\n",
       "5            1      A          215     53   215\n",
       "..         ...    ...          ...    ...   ...\n",
       "266         15      C          185     28   185\n",
       "267         15      C          195     25   195\n",
       "268         15      C          205     25   205\n",
       "269         15      C          215     31   215\n",
       "270         15      C          225     25   225\n",
       "\n",
       "[270 rows x 5 columns]"
      ]
     },
     "execution_count": 13,
     "metadata": {},
     "output_type": "execute_result"
    }
   ],
   "source": [
    "from pydataset import data\n",
    "\n",
    "import pandas as pd\n",
    "\n",
    "import scipy.stats as stats\n",
    "\n",
    "data('cake')"
   ]
  },
  {
   "cell_type": "markdown",
   "id": "93d104dd",
   "metadata": {},
   "source": [
    "HYPOTHESES\n",
    "\n",
    "$H_0$ : The average baking temperatures amongst Cake A, Cake B and Cake C is equal. \n",
    "($\\mu_{a} == \\mu_{b} == \\mu_{c}$)  \n",
    "\n",
    "$H_a$ : The average baking temperatures amongst Cake A, Cake B and Cake C is NOT equal.  \n",
    "($\\mu_{a} ≠ \\mu_{b}$ OR $\\mu_{a} ≠ \\mu_{c}$ OR $\\mu_{b} ≠ \\mu_{c}$) "
   ]
  },
  {
   "cell_type": "code",
   "execution_count": null,
   "id": "7d1f74bd",
   "metadata": {},
   "outputs": [],
   "source": []
  },
  {
   "cell_type": "code",
   "execution_count": 6,
   "id": "5ed09044",
   "metadata": {},
   "outputs": [
    {
     "name": "stdout",
     "output_type": "stream",
     "text": [
      "<class 'pandas.core.frame.DataFrame'>\n",
      "Int64Index: 270 entries, 1 to 270\n",
      "Data columns (total 5 columns):\n",
      " #   Column       Non-Null Count  Dtype \n",
      "---  ------       --------------  ----- \n",
      " 0   replicate    270 non-null    int64 \n",
      " 1   recipe       270 non-null    object\n",
      " 2   temperature  270 non-null    int64 \n",
      " 3   angle        270 non-null    int64 \n",
      " 4   temp         270 non-null    int64 \n",
      "dtypes: int64(4), object(1)\n",
      "memory usage: 12.7+ KB\n"
     ]
    }
   ],
   "source": [
    "cake = data('cake')\n",
    "cake.info()"
   ]
  },
  {
   "cell_type": "code",
   "execution_count": 7,
   "id": "8c5ebae9",
   "metadata": {},
   "outputs": [
    {
     "data": {
      "text/plain": [
       "A    90\n",
       "B    90\n",
       "C    90\n",
       "Name: recipe, dtype: int64"
      ]
     },
     "execution_count": 7,
     "metadata": {},
     "output_type": "execute_result"
    }
   ],
   "source": [
    "cake['recipe'].value_counts()"
   ]
  },
  {
   "cell_type": "code",
   "execution_count": 9,
   "id": "3f20e375",
   "metadata": {},
   "outputs": [],
   "source": [
    "temp_cake_A = cake[cake.recipe == 'A'].temperature\n",
    "temp_cake_B = cake[cake.recipe == 'B'].temperature\n",
    "temp_cake_C = cake[cake.recipe == 'C'].temperature"
   ]
  },
  {
   "cell_type": "code",
   "execution_count": 25,
   "id": "b637c471",
   "metadata": {
    "scrolled": true
   },
   "outputs": [
    {
     "data": {
      "text/plain": [
       "(0.0, 1.0)"
      ]
     },
     "execution_count": 25,
     "metadata": {},
     "output_type": "execute_result"
    }
   ],
   "source": [
    "t, p = stats.levene(temp_cake_A, temp_cake_B, temp_cake_C)\n",
    "t, p\n",
    "\n",
    "# Levene tests variances\n",
    "\n",
    "# Anova tests the differences in means : Like the T-Test, but useable when more than 2 groups"
   ]
  },
  {
   "cell_type": "code",
   "execution_count": 20,
   "id": "fb4fa8ed",
   "metadata": {},
   "outputs": [
    {
     "name": "stdout",
     "output_type": "stream",
     "text": [
      "200.0\n",
      "200.0\n",
      "200.0\n"
     ]
    }
   ],
   "source": [
    "print(temp_cake_A.mean())\n",
    "print(temp_cake_B.mean())\n",
    "print(temp_cake_C.mean())"
   ]
  },
  {
   "cell_type": "code",
   "execution_count": 22,
   "id": "3ed1ffde",
   "metadata": {},
   "outputs": [
    {
     "data": {
      "text/plain": [
       "Ttest_indResult(statistic=0.0, pvalue=1.0)"
      ]
     },
     "execution_count": 22,
     "metadata": {},
     "output_type": "execute_result"
    }
   ],
   "source": [
    "stats.ttest_ind(temp_cake_A, temp_cake_B, equal_var = True)"
   ]
  },
  {
   "cell_type": "code",
   "execution_count": 35,
   "id": "3cfa383f",
   "metadata": {},
   "outputs": [
    {
     "name": "stdout",
     "output_type": "stream",
     "text": [
      "Fail to reject the null hypothesis.\n"
     ]
    }
   ],
   "source": [
    "α = 0.05\n",
    "\n",
    "if p < α:\n",
    "    print(\"Reject null hypothesis.\")\n",
    "if p > α:\n",
    "    print('Fail to reject the null hypothesis.')"
   ]
  },
  {
   "cell_type": "markdown",
   "id": "8749a970",
   "metadata": {},
   "source": [
    "### Correct way : ANOVA \n",
    "\n",
    "( > 2 groups)\n",
    "\n",
    "INDEPENDENT = yes  \n",
    "NUMBER OF OBSERVATIONS = yes  \n",
    "EQUAL VARIANCE = yes (due to Levene's test)\n"
   ]
  },
  {
   "cell_type": "code",
   "execution_count": null,
   "id": "386807bb",
   "metadata": {},
   "outputs": [],
   "source": []
  },
  {
   "cell_type": "code",
   "execution_count": 30,
   "id": "312d988e",
   "metadata": {},
   "outputs": [
    {
     "data": {
      "text/plain": [
       "<AxesSubplot:>"
      ]
     },
     "execution_count": 30,
     "metadata": {},
     "output_type": "execute_result"
    },
    {
     "data": {
      "image/png": "[encoded data removed]",
      "text/plain": [
       "<Figure size 640x480 with 1 Axes>"
      ]
     },
     "metadata": {},
     "output_type": "display_data"
    }
   ],
   "source": [
    "temp_cake_A.hist()\n",
    "temp_cake_B.hist()\n",
    "temp_cake_C.hist()"
   ]
  },
  {
   "cell_type": "code",
   "execution_count": 31,
   "id": "8bb8ec4b",
   "metadata": {},
   "outputs": [
    {
     "data": {
      "text/plain": [
       "(0.0, 1.0)"
      ]
     },
     "execution_count": 31,
     "metadata": {},
     "output_type": "execute_result"
    }
   ],
   "source": [
    "t1, p1 = stats.f_oneway(temp_cake_A, temp_cake_B, temp_cake_C)\n",
    "t1, p1"
   ]
  },
  {
   "cell_type": "code",
   "execution_count": 34,
   "id": "f811b3a9",
   "metadata": {},
   "outputs": [
    {
     "name": "stdout",
     "output_type": "stream",
     "text": [
      "Fail to reject the null hypothesis.\n"
     ]
    }
   ],
   "source": [
    "\n",
    "if p1 < α:\n",
    "    print(\"Reject null hypothesis.\")\n",
    "if p1 > α:\n",
    "    print('Fail to reject the null hypothesis.')"
   ]
  }
 ],
 "metadata": {
  "kernelspec": {
   "display_name": "Python 3 (ipykernel)",
   "language": "python",
   "name": "python3"
  },
  "language_info": {
   "codemirror_mode": {
    "name": "ipython",
    "version": 3
   },
   "file_extension": ".py",
   "mimetype": "text/x-python",
   "name": "python",
   "nbconvert_exporter": "python",
   "pygments_lexer": "ipython3",
   "version": "3.9.13"
  }
 },
 "nbformat": 4,
 "nbformat_minor": 5
}
