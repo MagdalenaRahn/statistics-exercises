{
 "cells": [
  {
   "cell_type": "markdown",
   "id": "b06a625b",
   "metadata": {},
   "source": [
    "**1 / Answer with the type of stats test you would use (assume normal distribution):**\n",
    "     \n",
    "       a /  Do students get better test grades if they have a rubber duck on their desk ?  \n",
    "        Independent T-Test or a 1-sample T-Test, 1-tailed.   (1-tailed bc of comparison operator.)\n",
    "        \n",
    "       b /  Does smoking affect whether or not someone has lung cancer ?  \n",
    "        Chi-squared.  \n",
    "        \n",
    "       c /  Is gender independent of a person’s blood type ?\n",
    "        Chi-squared using all the different blood types.\n",
    "        \n",
    "       d /  A farming company wants to know if a new fertilizer has improved crop yield or not.  \n",
    "        Independent T-Test or Mann-Whitney Test, 1-tailed.\n",
    "        \n",
    "       e / Does the length of time of the lecture correlate with a student's grade ?\n",
    "        Pearson's R \\\n",
    "            r< Spearman's R.\n",
    "        \n",
    "       f/ Do people with dogs live in apartments more than people with cats ?\n",
    "        Chi-squared."
   ]
  },
  {
   "cell_type": "markdown",
   "id": "1729c466",
   "metadata": {},
   "source": [
    "**2 / Use the following contingency table to help answer the question of whether using a Macbook and being a Codeup student are independent of each other.**\n",
    "\n",
    "\n",
    "                    Codeup Student \tNot Codeup Student\n",
    "            Uses a Macbook \t49      20\n",
    "     Doesn't Use A Macbook \t1       30\n",
    "     \n",
    "Based on the above contingency table, it would appear that there is a strong correlation between being a Codeup student and using a Macbook, particularly as compared with those falling under 'Not Codeup Student', hence they are NOT independent."
   ]
  },
  {
   "cell_type": "markdown",
   "id": "16ffe01c",
   "metadata": {},
   "source": [
    "**Hypotheses :**  \n",
    "\n",
    "        - $H_0$ : Being a Codeup student is independent of using a Macbook.  \n",
    "        - $H_a$ : Being a Codeup student is NOT independent of using a Macbook."
   ]
  },
  {
   "cell_type": "code",
   "execution_count": null,
   "id": "c18f17a1",
   "metadata": {},
   "outputs": [],
   "source": []
  },
  {
   "cell_type": "code",
   "execution_count": 79,
   "id": "ac7f5a76",
   "metadata": {},
   "outputs": [
    {
     "data": {
      "text/html": [
       "<div>\n",
       "<style scoped>\n",
       "    .dataframe tbody tr th:only-of-type {\n",
       "        vertical-align: middle;\n",
       "    }\n",
       "\n",
       "    .dataframe tbody tr th {\n",
       "        vertical-align: top;\n",
       "    }\n",
       "\n",
       "    .dataframe thead th {\n",
       "        text-align: right;\n",
       "    }\n",
       "</style>\n",
       "<table border=\"1\" class=\"dataframe\">\n",
       "  <thead>\n",
       "    <tr style=\"text-align: right;\">\n",
       "      <th></th>\n",
       "      <th>Codeup student</th>\n",
       "      <th>Not Codeup student</th>\n",
       "    </tr>\n",
       "  </thead>\n",
       "  <tbody>\n",
       "    <tr>\n",
       "      <th>0</th>\n",
       "      <td>49</td>\n",
       "      <td>20</td>\n",
       "    </tr>\n",
       "    <tr>\n",
       "      <th>1</th>\n",
       "      <td>1</td>\n",
       "      <td>30</td>\n",
       "    </tr>\n",
       "  </tbody>\n",
       "</table>\n",
       "</div>"
      ],
      "text/plain": [
       "   Codeup student  Not Codeup student\n",
       "0              49                  20\n",
       "1               1                  30"
      ]
     },
     "execution_count": 79,
     "metadata": {},
     "output_type": "execute_result"
    }
   ],
   "source": [
    "df = pd.DataFrame({'Codeup student': [49, 1], 'Not Codeup student': [20, 30]})\n",
    "df\n",
    "\n",
    "# Create a dataframe"
   ]
  },
  {
   "cell_type": "code",
   "execution_count": 81,
   "id": "75e1a0e7",
   "metadata": {},
   "outputs": [
    {
     "data": {
      "text/html": [
       "<div>\n",
       "<style scoped>\n",
       "    .dataframe tbody tr th:only-of-type {\n",
       "        vertical-align: middle;\n",
       "    }\n",
       "\n",
       "    .dataframe tbody tr th {\n",
       "        vertical-align: top;\n",
       "    }\n",
       "\n",
       "    .dataframe thead th {\n",
       "        text-align: right;\n",
       "    }\n",
       "</style>\n",
       "<table border=\"1\" class=\"dataframe\">\n",
       "  <thead>\n",
       "    <tr style=\"text-align: right;\">\n",
       "      <th></th>\n",
       "      <th>Codeup student</th>\n",
       "      <th>Not Codeup student</th>\n",
       "    </tr>\n",
       "  </thead>\n",
       "  <tbody>\n",
       "    <tr>\n",
       "      <th>Mac user</th>\n",
       "      <td>49</td>\n",
       "      <td>20</td>\n",
       "    </tr>\n",
       "    <tr>\n",
       "      <th>Not Mac user</th>\n",
       "      <td>1</td>\n",
       "      <td>30</td>\n",
       "    </tr>\n",
       "  </tbody>\n",
       "</table>\n",
       "</div>"
      ],
      "text/plain": [
       "              Codeup student  Not Codeup student\n",
       "Mac user                  49                  20\n",
       "Not Mac user               1                  30"
      ]
     },
     "execution_count": 81,
     "metadata": {},
     "output_type": "execute_result"
    }
   ],
   "source": [
    "df.index = ['Mac user', 'Not Mac user']\n",
    "\n",
    "df\n",
    "\n",
    "Add indices to the DF"
   ]
  },
  {
   "cell_type": "code",
   "execution_count": 82,
   "id": "ddc4ff59",
   "metadata": {},
   "outputs": [
    {
     "data": {
      "text/plain": [
       "(36.65264142122487,\n",
       " 1.4116760526193828e-09,\n",
       " 1,\n",
       " array([[34.5, 34.5],\n",
       "        [15.5, 15.5]]))"
      ]
     },
     "execution_count": 82,
     "metadata": {},
     "output_type": "execute_result"
    }
   ],
   "source": [
    "# run a chi squared test\n",
    "\n",
    "chi2_4, p_4, degf_4, expected_4 = stats.chi2_contingency(df)\n",
    "\n",
    "chi2_4, p_4, degf_4, expected_4"
   ]
  },
  {
   "cell_type": "code",
   "execution_count": 84,
   "id": "2b5eb3bd",
   "metadata": {},
   "outputs": [
    {
     "name": "stdout",
     "output_type": "stream",
     "text": [
      "Reject null.\n"
     ]
    }
   ],
   "source": [
    "α = 0.05\n",
    "\n",
    "if p_4 < α:\n",
    "    print('Reject null.')\n",
    "else:\n",
    "    print('Fail to reject null.')"
   ]
  },
  {
   "cell_type": "code",
   "execution_count": 86,
   "id": "7a5148d1",
   "metadata": {},
   "outputs": [
    {
     "data": {
      "text/plain": [
       "array([[34.5, 34.5],\n",
       "       [15.5, 15.5]])"
      ]
     },
     "execution_count": 86,
     "metadata": {},
     "output_type": "execute_result"
    }
   ],
   "source": [
    "expected_4\n",
    "\n",
    "# returns if the relationships were independent of each other (ie, the null hypothesis)"
   ]
  },
  {
   "cell_type": "markdown",
   "id": "0e3b8aed",
   "metadata": {},
   "source": [
    ".\n"
   ]
  },
  {
   "cell_type": "markdown",
   "id": "d376d2d8",
   "metadata": {},
   "source": [
    "\n",
    "\n",
    "**3 / Choose another 2 categorical variables from the mpg dataset and perform a 𝑐ℎ𝑖2 contingency table test with them. Be sure to state your null and alternative hypotheses.**"
   ]
  },
  {
   "cell_type": "code",
   "execution_count": 2,
   "id": "95c85e81",
   "metadata": {},
   "outputs": [
    {
     "data": {
      "text/html": [
       "<div>\n",
       "<style scoped>\n",
       "    .dataframe tbody tr th:only-of-type {\n",
       "        vertical-align: middle;\n",
       "    }\n",
       "\n",
       "    .dataframe tbody tr th {\n",
       "        vertical-align: top;\n",
       "    }\n",
       "\n",
       "    .dataframe thead th {\n",
       "        text-align: right;\n",
       "    }\n",
       "</style>\n",
       "<table border=\"1\" class=\"dataframe\">\n",
       "  <thead>\n",
       "    <tr style=\"text-align: right;\">\n",
       "      <th></th>\n",
       "      <th>manufacturer</th>\n",
       "      <th>model</th>\n",
       "      <th>displ</th>\n",
       "      <th>year</th>\n",
       "      <th>cyl</th>\n",
       "      <th>trans</th>\n",
       "      <th>drv</th>\n",
       "      <th>cty</th>\n",
       "      <th>hwy</th>\n",
       "      <th>fl</th>\n",
       "      <th>class</th>\n",
       "    </tr>\n",
       "  </thead>\n",
       "  <tbody>\n",
       "    <tr>\n",
       "      <th>1</th>\n",
       "      <td>audi</td>\n",
       "      <td>a4</td>\n",
       "      <td>1.8</td>\n",
       "      <td>1999</td>\n",
       "      <td>4</td>\n",
       "      <td>auto(l5)</td>\n",
       "      <td>f</td>\n",
       "      <td>18</td>\n",
       "      <td>29</td>\n",
       "      <td>p</td>\n",
       "      <td>compact</td>\n",
       "    </tr>\n",
       "    <tr>\n",
       "      <th>2</th>\n",
       "      <td>audi</td>\n",
       "      <td>a4</td>\n",
       "      <td>1.8</td>\n",
       "      <td>1999</td>\n",
       "      <td>4</td>\n",
       "      <td>manual(m5)</td>\n",
       "      <td>f</td>\n",
       "      <td>21</td>\n",
       "      <td>29</td>\n",
       "      <td>p</td>\n",
       "      <td>compact</td>\n",
       "    </tr>\n",
       "    <tr>\n",
       "      <th>3</th>\n",
       "      <td>audi</td>\n",
       "      <td>a4</td>\n",
       "      <td>2.0</td>\n",
       "      <td>2008</td>\n",
       "      <td>4</td>\n",
       "      <td>manual(m6)</td>\n",
       "      <td>f</td>\n",
       "      <td>20</td>\n",
       "      <td>31</td>\n",
       "      <td>p</td>\n",
       "      <td>compact</td>\n",
       "    </tr>\n",
       "    <tr>\n",
       "      <th>4</th>\n",
       "      <td>audi</td>\n",
       "      <td>a4</td>\n",
       "      <td>2.0</td>\n",
       "      <td>2008</td>\n",
       "      <td>4</td>\n",
       "      <td>auto(av)</td>\n",
       "      <td>f</td>\n",
       "      <td>21</td>\n",
       "      <td>30</td>\n",
       "      <td>p</td>\n",
       "      <td>compact</td>\n",
       "    </tr>\n",
       "    <tr>\n",
       "      <th>5</th>\n",
       "      <td>audi</td>\n",
       "      <td>a4</td>\n",
       "      <td>2.8</td>\n",
       "      <td>1999</td>\n",
       "      <td>6</td>\n",
       "      <td>auto(l5)</td>\n",
       "      <td>f</td>\n",
       "      <td>16</td>\n",
       "      <td>26</td>\n",
       "      <td>p</td>\n",
       "      <td>compact</td>\n",
       "    </tr>\n",
       "  </tbody>\n",
       "</table>\n",
       "</div>"
      ],
      "text/plain": [
       "  manufacturer model  displ  year  cyl       trans drv  cty  hwy fl    class\n",
       "1         audi    a4    1.8  1999    4    auto(l5)   f   18   29  p  compact\n",
       "2         audi    a4    1.8  1999    4  manual(m5)   f   21   29  p  compact\n",
       "3         audi    a4    2.0  2008    4  manual(m6)   f   20   31  p  compact\n",
       "4         audi    a4    2.0  2008    4    auto(av)   f   21   30  p  compact\n",
       "5         audi    a4    2.8  1999    6    auto(l5)   f   16   26  p  compact"
      ]
     },
     "execution_count": 2,
     "metadata": {},
     "output_type": "execute_result"
    }
   ],
   "source": [
    "# imports\n",
    "\n",
    "import pandas as pd\n",
    "from scipy import stats\n",
    "from pydataset import data\n",
    "import numpy as np\n",
    "import env\n",
    "\n",
    "mpg = data('mpg')\n",
    "mpg.head()"
   ]
  },
  {
   "cell_type": "markdown",
   "id": "5400f5f9",
   "metadata": {},
   "source": [
    "**Hypotheses :**  \n",
    "    - $H_0$ : Manufacturer is independent of vehicle transmission.  \n",
    "    -    $H_a$ : Manufacturer is NOT independent of vehicle transmission."
   ]
  },
  {
   "cell_type": "code",
   "execution_count": 11,
   "id": "763fc78f",
   "metadata": {},
   "outputs": [
    {
     "name": "stdout",
     "output_type": "stream",
     "text": [
      "dodge         37\n",
      "toyota        34\n",
      "volkswagen    27\n",
      "ford          25\n",
      "chevrolet     19\n",
      "audi          18\n",
      "hyundai       14\n",
      "subaru        14\n",
      "nissan        13\n",
      "honda          9\n",
      "jeep           8\n",
      "pontiac        5\n",
      "land rover     4\n",
      "mercury        4\n",
      "lincoln        3\n",
      "Name: manufacturer, dtype: int64\n",
      ".-.-.-.-\n",
      "auto(l4)      83\n",
      "manual(m5)    58\n",
      "auto(l5)      39\n",
      "manual(m6)    19\n",
      "auto(s6)      16\n",
      "auto(l6)       6\n",
      "auto(av)       5\n",
      "auto(s5)       3\n",
      "auto(s4)       3\n",
      "auto(l3)       2\n",
      "Name: trans, dtype: int64\n"
     ]
    }
   ],
   "source": [
    "print(mpg['manufacturer'].value_counts())\n",
    "print('.-.-.-.-')\n",
    "print(mpg['trans'].value_counts())"
   ]
  },
  {
   "cell_type": "code",
   "execution_count": 12,
   "id": "fc88a1b0",
   "metadata": {},
   "outputs": [
    {
     "data": {
      "text/plain": [
       "auto      157\n",
       "manual     77\n",
       "Name: trans, dtype: int64"
      ]
     },
     "execution_count": 12,
     "metadata": {},
     "output_type": "execute_result"
    }
   ],
   "source": [
    "# removing final 4 characters from 'trans' so that the transmission type \n",
    "# fits into solely automatic or manual categories\n",
    "\n",
    "mpg['trans'] = mpg['trans'].str[:-4]\n",
    "mpg['trans'].value_counts()"
   ]
  },
  {
   "cell_type": "code",
   "execution_count": null,
   "id": "8727c5c7",
   "metadata": {},
   "outputs": [],
   "source": []
  },
  {
   "cell_type": "markdown",
   "id": "d94ec516",
   "metadata": {},
   "source": [
    "    IN_CLASS, alternate"
   ]
  },
  {
   "cell_type": "code",
   "execution_count": 94,
   "id": "65e774af",
   "metadata": {
    "scrolled": true
   },
   "outputs": [
    {
     "data": {
      "text/plain": [
       "1       True\n",
       "2      False\n",
       "3      False\n",
       "4       True\n",
       "5       True\n",
       "       ...  \n",
       "230     True\n",
       "231    False\n",
       "232     True\n",
       "233    False\n",
       "234     True\n",
       "Name: trans, Length: 234, dtype: bool"
      ]
     },
     "execution_count": 94,
     "metadata": {},
     "output_type": "execute_result"
    }
   ],
   "source": [
    "## IN_CLASS , alternate way to find all automatics and all manuals\n",
    "\n",
    "mpg['trans'].str.startswith('a')"
   ]
  },
  {
   "cell_type": "markdown",
   "id": "12c7c0b3",
   "metadata": {},
   "source": [
    "#### Call : ```mp.where(output if yes, output if no)```   \n",
    "Returns Boolean output."
   ]
  },
  {
   "cell_type": "code",
   "execution_count": 95,
   "id": "cc3d1740",
   "metadata": {
    "scrolled": true
   },
   "outputs": [
    {
     "data": {
      "text/plain": [
       "array(['Auto', 'Manual', 'Manual', 'Auto', 'Auto', 'Manual', 'Auto',\n",
       "       'Manual', 'Auto', 'Manual', 'Auto', 'Auto', 'Manual', 'Auto',\n",
       "       'Manual', 'Auto', 'Auto', 'Auto', 'Auto', 'Auto', 'Auto', 'Auto',\n",
       "       'Auto', 'Manual', 'Auto', 'Manual', 'Auto', 'Manual', 'Auto',\n",
       "       'Auto', 'Auto', 'Auto', 'Auto', 'Auto', 'Auto', 'Auto', 'Auto',\n",
       "       'Auto', 'Auto', 'Auto', 'Auto', 'Auto', 'Auto', 'Auto', 'Auto',\n",
       "       'Auto', 'Auto', 'Auto', 'Manual', 'Auto', 'Auto', 'Manual', 'Auto',\n",
       "       'Auto', 'Auto', 'Manual', 'Auto', 'Auto', 'Auto', 'Auto', 'Auto',\n",
       "       'Auto', 'Auto', 'Auto', 'Manual', 'Auto', 'Auto', 'Auto', 'Manual',\n",
       "       'Manual', 'Auto', 'Manual', 'Auto', 'Auto', 'Auto', 'Auto', 'Auto',\n",
       "       'Auto', 'Manual', 'Auto', 'Auto', 'Auto', 'Auto', 'Auto', 'Manual',\n",
       "       'Manual', 'Auto', 'Auto', 'Auto', 'Auto', 'Manual', 'Auto',\n",
       "       'Manual', 'Auto', 'Auto', 'Manual', 'Manual', 'Auto', 'Manual',\n",
       "       'Manual', 'Auto', 'Manual', 'Manual', 'Auto', 'Manual', 'Auto',\n",
       "       'Auto', 'Manual', 'Auto', 'Manual', 'Auto', 'Manual', 'Auto',\n",
       "       'Manual', 'Auto', 'Auto', 'Manual', 'Manual', 'Auto', 'Auto',\n",
       "       'Manual', 'Manual', 'Auto', 'Auto', 'Auto', 'Auto', 'Auto', 'Auto',\n",
       "       'Auto', 'Auto', 'Auto', 'Auto', 'Auto', 'Auto', 'Auto', 'Auto',\n",
       "       'Auto', 'Auto', 'Auto', 'Auto', 'Auto', 'Manual', 'Auto', 'Auto',\n",
       "       'Manual', 'Manual', 'Auto', 'Auto', 'Manual', 'Auto', 'Auto',\n",
       "       'Manual', 'Auto', 'Auto', 'Auto', 'Auto', 'Auto', 'Auto', 'Auto',\n",
       "       'Manual', 'Auto', 'Manual', 'Manual', 'Auto', 'Auto', 'Auto',\n",
       "       'Manual', 'Manual', 'Auto', 'Auto', 'Auto', 'Manual', 'Manual',\n",
       "       'Manual', 'Auto', 'Auto', 'Manual', 'Auto', 'Auto', 'Manual',\n",
       "       'Auto', 'Manual', 'Auto', 'Auto', 'Manual', 'Auto', 'Auto',\n",
       "       'Manual', 'Manual', 'Auto', 'Auto', 'Manual', 'Auto', 'Auto',\n",
       "       'Auto', 'Manual', 'Manual', 'Auto', 'Auto', 'Auto', 'Manual',\n",
       "       'Auto', 'Manual', 'Manual', 'Auto', 'Manual', 'Auto', 'Manual',\n",
       "       'Auto', 'Manual', 'Auto', 'Manual', 'Manual', 'Manual', 'Auto',\n",
       "       'Auto', 'Manual', 'Auto', 'Manual', 'Auto', 'Manual', 'Manual',\n",
       "       'Auto', 'Manual', 'Auto', 'Manual', 'Auto', 'Manual', 'Auto',\n",
       "       'Auto', 'Manual', 'Auto', 'Manual', 'Auto'], dtype='<U6')"
      ]
     },
     "execution_count": 95,
     "metadata": {},
     "output_type": "execute_result"
    }
   ],
   "source": [
    "## IN_CLASS , alternate way to find all automatics and all manuals\n",
    "\n",
    "np.where(mpg['trans'].str.startswith('a'), 'Auto', 'Manual')"
   ]
  },
  {
   "cell_type": "code",
   "execution_count": 97,
   "id": "95fa9c54",
   "metadata": {},
   "outputs": [
    {
     "data": {
      "text/html": [
       "<div>\n",
       "<style scoped>\n",
       "    .dataframe tbody tr th:only-of-type {\n",
       "        vertical-align: middle;\n",
       "    }\n",
       "\n",
       "    .dataframe tbody tr th {\n",
       "        vertical-align: top;\n",
       "    }\n",
       "\n",
       "    .dataframe thead th {\n",
       "        text-align: right;\n",
       "    }\n",
       "</style>\n",
       "<table border=\"1\" class=\"dataframe\">\n",
       "  <thead>\n",
       "    <tr style=\"text-align: right;\">\n",
       "      <th></th>\n",
       "      <th>manufacturer</th>\n",
       "      <th>model</th>\n",
       "      <th>displ</th>\n",
       "      <th>year</th>\n",
       "      <th>cyl</th>\n",
       "      <th>trans</th>\n",
       "      <th>drv</th>\n",
       "      <th>cty</th>\n",
       "      <th>hwy</th>\n",
       "      <th>fl</th>\n",
       "      <th>class</th>\n",
       "      <th>trans_simple</th>\n",
       "    </tr>\n",
       "  </thead>\n",
       "  <tbody>\n",
       "    <tr>\n",
       "      <th>1</th>\n",
       "      <td>audi</td>\n",
       "      <td>a4</td>\n",
       "      <td>1.8</td>\n",
       "      <td>1999</td>\n",
       "      <td>4</td>\n",
       "      <td>auto(l5)</td>\n",
       "      <td>f</td>\n",
       "      <td>18</td>\n",
       "      <td>29</td>\n",
       "      <td>p</td>\n",
       "      <td>compact</td>\n",
       "      <td>Auto</td>\n",
       "    </tr>\n",
       "    <tr>\n",
       "      <th>2</th>\n",
       "      <td>audi</td>\n",
       "      <td>a4</td>\n",
       "      <td>1.8</td>\n",
       "      <td>1999</td>\n",
       "      <td>4</td>\n",
       "      <td>manual(m5)</td>\n",
       "      <td>f</td>\n",
       "      <td>21</td>\n",
       "      <td>29</td>\n",
       "      <td>p</td>\n",
       "      <td>compact</td>\n",
       "      <td>Manual</td>\n",
       "    </tr>\n",
       "    <tr>\n",
       "      <th>3</th>\n",
       "      <td>audi</td>\n",
       "      <td>a4</td>\n",
       "      <td>2.0</td>\n",
       "      <td>2008</td>\n",
       "      <td>4</td>\n",
       "      <td>manual(m6)</td>\n",
       "      <td>f</td>\n",
       "      <td>20</td>\n",
       "      <td>31</td>\n",
       "      <td>p</td>\n",
       "      <td>compact</td>\n",
       "      <td>Manual</td>\n",
       "    </tr>\n",
       "    <tr>\n",
       "      <th>4</th>\n",
       "      <td>audi</td>\n",
       "      <td>a4</td>\n",
       "      <td>2.0</td>\n",
       "      <td>2008</td>\n",
       "      <td>4</td>\n",
       "      <td>auto(av)</td>\n",
       "      <td>f</td>\n",
       "      <td>21</td>\n",
       "      <td>30</td>\n",
       "      <td>p</td>\n",
       "      <td>compact</td>\n",
       "      <td>Auto</td>\n",
       "    </tr>\n",
       "    <tr>\n",
       "      <th>5</th>\n",
       "      <td>audi</td>\n",
       "      <td>a4</td>\n",
       "      <td>2.8</td>\n",
       "      <td>1999</td>\n",
       "      <td>6</td>\n",
       "      <td>auto(l5)</td>\n",
       "      <td>f</td>\n",
       "      <td>16</td>\n",
       "      <td>26</td>\n",
       "      <td>p</td>\n",
       "      <td>compact</td>\n",
       "      <td>Auto</td>\n",
       "    </tr>\n",
       "  </tbody>\n",
       "</table>\n",
       "</div>"
      ],
      "text/plain": [
       "  manufacturer model  displ  year  cyl       trans drv  cty  hwy fl    class  \\\n",
       "1         audi    a4    1.8  1999    4    auto(l5)   f   18   29  p  compact   \n",
       "2         audi    a4    1.8  1999    4  manual(m5)   f   21   29  p  compact   \n",
       "3         audi    a4    2.0  2008    4  manual(m6)   f   20   31  p  compact   \n",
       "4         audi    a4    2.0  2008    4    auto(av)   f   21   30  p  compact   \n",
       "5         audi    a4    2.8  1999    6    auto(l5)   f   16   26  p  compact   \n",
       "\n",
       "  trans_simple  \n",
       "1         Auto  \n",
       "2       Manual  \n",
       "3       Manual  \n",
       "4         Auto  \n",
       "5         Auto  "
      ]
     },
     "execution_count": 97,
     "metadata": {},
     "output_type": "execute_result"
    }
   ],
   "source": [
    "## IN_CLASS , alternate way to find all automatics and all manuals\n",
    "\n",
    "mpg['trans_simple'] = np.where(mpg['trans'].str.startswith('a'), 'Auto', 'Manual')\n",
    "mpg.head()"
   ]
  },
  {
   "cell_type": "code",
   "execution_count": 98,
   "id": "97b54c4c",
   "metadata": {},
   "outputs": [
    {
     "data": {
      "text/plain": [
       "suv           62\n",
       "compact       47\n",
       "midsize       41\n",
       "subcompact    35\n",
       "pickup        33\n",
       "minivan       11\n",
       "2seater        5\n",
       "Name: class, dtype: int64"
      ]
     },
     "execution_count": 98,
     "metadata": {},
     "output_type": "execute_result"
    }
   ],
   "source": [
    "## IN_CLASS , alternate way to find all automatics and all manuals\n",
    "\n",
    "mpg['class'].value_counts()"
   ]
  },
  {
   "cell_type": "code",
   "execution_count": 99,
   "id": "c990777a",
   "metadata": {},
   "outputs": [
    {
     "data": {
      "text/html": [
       "<div>\n",
       "<style scoped>\n",
       "    .dataframe tbody tr th:only-of-type {\n",
       "        vertical-align: middle;\n",
       "    }\n",
       "\n",
       "    .dataframe tbody tr th {\n",
       "        vertical-align: top;\n",
       "    }\n",
       "\n",
       "    .dataframe thead th {\n",
       "        text-align: right;\n",
       "    }\n",
       "</style>\n",
       "<table border=\"1\" class=\"dataframe\">\n",
       "  <thead>\n",
       "    <tr style=\"text-align: right;\">\n",
       "      <th>trans_simple</th>\n",
       "      <th>Auto</th>\n",
       "      <th>Manual</th>\n",
       "    </tr>\n",
       "    <tr>\n",
       "      <th>class</th>\n",
       "      <th></th>\n",
       "      <th></th>\n",
       "    </tr>\n",
       "  </thead>\n",
       "  <tbody>\n",
       "    <tr>\n",
       "      <th>2seater</th>\n",
       "      <td>2</td>\n",
       "      <td>3</td>\n",
       "    </tr>\n",
       "    <tr>\n",
       "      <th>compact</th>\n",
       "      <td>24</td>\n",
       "      <td>23</td>\n",
       "    </tr>\n",
       "    <tr>\n",
       "      <th>midsize</th>\n",
       "      <td>29</td>\n",
       "      <td>12</td>\n",
       "    </tr>\n",
       "    <tr>\n",
       "      <th>minivan</th>\n",
       "      <td>11</td>\n",
       "      <td>0</td>\n",
       "    </tr>\n",
       "    <tr>\n",
       "      <th>pickup</th>\n",
       "      <td>20</td>\n",
       "      <td>13</td>\n",
       "    </tr>\n",
       "    <tr>\n",
       "      <th>subcompact</th>\n",
       "      <td>16</td>\n",
       "      <td>19</td>\n",
       "    </tr>\n",
       "    <tr>\n",
       "      <th>suv</th>\n",
       "      <td>55</td>\n",
       "      <td>7</td>\n",
       "    </tr>\n",
       "  </tbody>\n",
       "</table>\n",
       "</div>"
      ],
      "text/plain": [
       "trans_simple  Auto  Manual\n",
       "class                     \n",
       "2seater          2       3\n",
       "compact         24      23\n",
       "midsize         29      12\n",
       "minivan         11       0\n",
       "pickup          20      13\n",
       "subcompact      16      19\n",
       "suv             55       7"
      ]
     },
     "execution_count": 99,
     "metadata": {},
     "output_type": "execute_result"
    }
   ],
   "source": [
    "## IN_CLASS , alternate way to find all automatics and all manuals\n",
    "\n",
    "pd.crosstab(mpg['class'], mpg['trans_simple'])"
   ]
  },
  {
   "cell_type": "code",
   "execution_count": 100,
   "id": "e55a45b2",
   "metadata": {},
   "outputs": [
    {
     "data": {
      "text/plain": [
       "(33.7700251570052,\n",
       " 7.4513729838250925e-06,\n",
       " 6,\n",
       " array([[ 3.35470085,  1.64529915],\n",
       "        [31.53418803, 15.46581197],\n",
       "        [27.50854701, 13.49145299],\n",
       "        [ 7.38034188,  3.61965812],\n",
       "        [22.14102564, 10.85897436],\n",
       "        [23.48290598, 11.51709402],\n",
       "        [41.5982906 , 20.4017094 ]]))"
      ]
     },
     "execution_count": 100,
     "metadata": {},
     "output_type": "execute_result"
    }
   ],
   "source": [
    "## IN_CLASS , alternate way to find \n",
    "\n",
    "chi2_5, p_5, degf_5, expected_5 = stats.chi2_contingency(pd.crosstab(mpg['class'], mpg['trans_simple']))\n",
    "chi2_5, p_5, degf_5, expected_5"
   ]
  },
  {
   "cell_type": "markdown",
   "id": "0dc34828",
   "metadata": {},
   "source": [
    "    ** Here restarts my code **"
   ]
  },
  {
   "cell_type": "code",
   "execution_count": 14,
   "id": "5d86bc32",
   "metadata": {},
   "outputs": [
    {
     "data": {
      "text/html": [
       "<div>\n",
       "<style scoped>\n",
       "    .dataframe tbody tr th:only-of-type {\n",
       "        vertical-align: middle;\n",
       "    }\n",
       "\n",
       "    .dataframe tbody tr th {\n",
       "        vertical-align: top;\n",
       "    }\n",
       "\n",
       "    .dataframe thead th {\n",
       "        text-align: right;\n",
       "    }\n",
       "</style>\n",
       "<table border=\"1\" class=\"dataframe\">\n",
       "  <thead>\n",
       "    <tr style=\"text-align: right;\">\n",
       "      <th>trans</th>\n",
       "      <th>auto</th>\n",
       "      <th>manual</th>\n",
       "    </tr>\n",
       "    <tr>\n",
       "      <th>manufacturer</th>\n",
       "      <th></th>\n",
       "      <th></th>\n",
       "    </tr>\n",
       "  </thead>\n",
       "  <tbody>\n",
       "    <tr>\n",
       "      <th>audi</th>\n",
       "      <td>11</td>\n",
       "      <td>7</td>\n",
       "    </tr>\n",
       "    <tr>\n",
       "      <th>chevrolet</th>\n",
       "      <td>16</td>\n",
       "      <td>3</td>\n",
       "    </tr>\n",
       "    <tr>\n",
       "      <th>dodge</th>\n",
       "      <td>30</td>\n",
       "      <td>7</td>\n",
       "    </tr>\n",
       "    <tr>\n",
       "      <th>ford</th>\n",
       "      <td>17</td>\n",
       "      <td>8</td>\n",
       "    </tr>\n",
       "    <tr>\n",
       "      <th>honda</th>\n",
       "      <td>4</td>\n",
       "      <td>5</td>\n",
       "    </tr>\n",
       "    <tr>\n",
       "      <th>hyundai</th>\n",
       "      <td>7</td>\n",
       "      <td>7</td>\n",
       "    </tr>\n",
       "    <tr>\n",
       "      <th>jeep</th>\n",
       "      <td>8</td>\n",
       "      <td>0</td>\n",
       "    </tr>\n",
       "    <tr>\n",
       "      <th>land rover</th>\n",
       "      <td>4</td>\n",
       "      <td>0</td>\n",
       "    </tr>\n",
       "    <tr>\n",
       "      <th>lincoln</th>\n",
       "      <td>3</td>\n",
       "      <td>0</td>\n",
       "    </tr>\n",
       "    <tr>\n",
       "      <th>mercury</th>\n",
       "      <td>4</td>\n",
       "      <td>0</td>\n",
       "    </tr>\n",
       "    <tr>\n",
       "      <th>nissan</th>\n",
       "      <td>8</td>\n",
       "      <td>5</td>\n",
       "    </tr>\n",
       "    <tr>\n",
       "      <th>pontiac</th>\n",
       "      <td>5</td>\n",
       "      <td>0</td>\n",
       "    </tr>\n",
       "    <tr>\n",
       "      <th>subaru</th>\n",
       "      <td>7</td>\n",
       "      <td>7</td>\n",
       "    </tr>\n",
       "    <tr>\n",
       "      <th>toyota</th>\n",
       "      <td>20</td>\n",
       "      <td>14</td>\n",
       "    </tr>\n",
       "    <tr>\n",
       "      <th>volkswagen</th>\n",
       "      <td>13</td>\n",
       "      <td>14</td>\n",
       "    </tr>\n",
       "  </tbody>\n",
       "</table>\n",
       "</div>"
      ],
      "text/plain": [
       "trans         auto  manual\n",
       "manufacturer              \n",
       "audi            11       7\n",
       "chevrolet       16       3\n",
       "dodge           30       7\n",
       "ford            17       8\n",
       "honda            4       5\n",
       "hyundai          7       7\n",
       "jeep             8       0\n",
       "land rover       4       0\n",
       "lincoln          3       0\n",
       "mercury          4       0\n",
       "nissan           8       5\n",
       "pontiac          5       0\n",
       "subaru           7       7\n",
       "toyota          20      14\n",
       "volkswagen      13      14"
      ]
     },
     "execution_count": 14,
     "metadata": {},
     "output_type": "execute_result"
    }
   ],
   "source": [
    "mfg_trans_observed = pd.crosstab(mpg.manufacturer, mpg.trans)\n",
    "mfg_trans_observed"
   ]
  },
  {
   "cell_type": "code",
   "execution_count": 15,
   "id": "fb4fd0d3",
   "metadata": {},
   "outputs": [
    {
     "data": {
      "text/plain": [
       "(29.293684393117655,\n",
       " 0.00953444310358795,\n",
       " 14,\n",
       " array([[12.07692308,  5.92307692],\n",
       "        [12.74786325,  6.25213675],\n",
       "        [24.82478632, 12.17521368],\n",
       "        [16.77350427,  8.22649573],\n",
       "        [ 6.03846154,  2.96153846],\n",
       "        [ 9.39316239,  4.60683761],\n",
       "        [ 5.36752137,  2.63247863],\n",
       "        [ 2.68376068,  1.31623932],\n",
       "        [ 2.01282051,  0.98717949],\n",
       "        [ 2.68376068,  1.31623932],\n",
       "        [ 8.72222222,  4.27777778],\n",
       "        [ 3.35470085,  1.64529915],\n",
       "        [ 9.39316239,  4.60683761],\n",
       "        [22.81196581, 11.18803419],\n",
       "        [18.11538462,  8.88461538]]))"
      ]
     },
     "execution_count": 15,
     "metadata": {},
     "output_type": "execute_result"
    }
   ],
   "source": [
    "chi2_1, p_1, degf_1, expected_1 = stats.chi2_contingency(mfg_trans_observed)\n",
    "\n",
    "chi2_1, p_1, degf_1, expected_1\n",
    "\n",
    "# returns chi2, p-value, degree of freedom and an array : the contingency table of \n",
    "# expected values if everything were proportional and there were no relationship \n",
    "# between the values 'manufacturer' and 'trans'."
   ]
  },
  {
   "cell_type": "code",
   "execution_count": 17,
   "id": "5f8ada3f",
   "metadata": {},
   "outputs": [
    {
     "name": "stdout",
     "output_type": "stream",
     "text": [
      "Observed Values :\n",
      "\n",
      "[[11  7]\n",
      " [16  3]\n",
      " [30  7]\n",
      " [17  8]\n",
      " [ 4  5]\n",
      " [ 7  7]\n",
      " [ 8  0]\n",
      " [ 4  0]\n",
      " [ 3  0]\n",
      " [ 4  0]\n",
      " [ 8  5]\n",
      " [ 5  0]\n",
      " [ 7  7]\n",
      " [20 14]\n",
      " [13 14]]\n",
      "---\n",
      "Expected Values :\n",
      "\n",
      "[[12  5]\n",
      " [12  6]\n",
      " [24 12]\n",
      " [16  8]\n",
      " [ 6  2]\n",
      " [ 9  4]\n",
      " [ 5  2]\n",
      " [ 2  1]\n",
      " [ 2  0]\n",
      " [ 2  1]\n",
      " [ 8  4]\n",
      " [ 3  1]\n",
      " [ 9  4]\n",
      " [22 11]\n",
      " [18  8]]\n",
      "---\n",
      "\n",
      "chi^2 = 29.2937\n",
      "p     = 0.0095\n",
      "---\n",
      "\n",
      "Is the p-value < α ? True\n"
     ]
    }
   ],
   "source": [
    "α = 0.05\n",
    "\n",
    "# print 'Observed Values' followed by a new line\n",
    "print('Observed Values :\\n')\n",
    "\n",
    "\n",
    "# print the values from the 'observed' dataframe\n",
    "print(mfg_trans_observed.values)\n",
    "\n",
    "\n",
    "# print --- and then a new line, 'Expected Values', followed by another new line\n",
    "print('---\\nExpected Values :\\n')\n",
    "\n",
    "\n",
    "# print the expected values array\n",
    "print(expected_1.astype(int))\n",
    "# this turns the floats into integers, for readability\n",
    "\n",
    "\n",
    "# print a new line\n",
    "print('---\\n')\n",
    "\n",
    "\n",
    "# print the chi2 value, formatted to a float with 4 digits. \n",
    "print(f'chi^2 = {chi2_1:.4f}') \n",
    "\n",
    "\n",
    "# print the p-value, formatted to a float with 4 digits {p:.4f}. \n",
    "print(f'p     = {p_1:.4f}')\n",
    "\n",
    "print('---\\n')\n",
    "\n",
    "print(f'Is the p-value < α ?', p_1 < α)\n",
    "\n",
    "# We know that the expected values are close to the Observed values due to the p-value being greater than α."
   ]
  },
  {
   "cell_type": "markdown",
   "id": "c1771a66",
   "metadata": {},
   "source": [
    "Conclusion :  \n",
    "\n",
    "    When comparing the two contingency tables, we can see that the observed values are somewhat close to the expected values, due to the p-value being less slightly than α, at p = 0.0095.   \n",
    "    \n",
    "    Because the p-value is less than α, _we reject the null hypothesis_, and confirm that, using this available data sample, there DOES appear to be a notable relationship between manufacturer and type of transmission."
   ]
  },
  {
   "cell_type": "code",
   "execution_count": null,
   "id": "b365da3f",
   "metadata": {},
   "outputs": [],
   "source": []
  },
  {
   "cell_type": "markdown",
   "id": "dfa379a9",
   "metadata": {},
   "source": [
    "**4 / a /  Use the data from the employees database.** Is an employee's gender independent of whether an employee works in sales or marketing?   \n",
    "(Only look at current employees.) "
   ]
  },
  {
   "cell_type": "code",
   "execution_count": 9,
   "id": "a815d7eb",
   "metadata": {},
   "outputs": [],
   "source": [
    "db_url = f'mysql+pymysql://{env.username}:{env.password}@{env.host}/employees'\n",
    "emp_df = pd.read_sql('''SELECT e.gender, e.emp_no, de.dept_no, d.dept_name, de.to_date\n",
    "                        FROM employees AS e\n",
    "                        JOIN dept_emp AS de\n",
    "                            USING (emp_no)\n",
    "                        JOIN departments as d\n",
    "                            USING (dept_no)\n",
    "                        WHERE de.to_date = '9999-01-01' AND d.dept_name IN ('Sales','Marketing')\n",
    "                        GROUP BY e.gender, e.emp_no, de.dept_no, d.dept_name, de.to_date''', db_url)\n"
   ]
  },
  {
   "cell_type": "markdown",
   "id": "f9ef5201",
   "metadata": {},
   "source": [
    "SELECT e.gender, e.emp_no, de.dept_no, d.dept_name  \n",
    "FROM employees AS e  \n",
    "JOIN dept_emp AS de  \n",
    "     USING (emp_no)  \n",
    "JOIN departments as d  \n",
    "     USING (dept_no)  \n",
    "WHERE de.to_date = '9999-01-01' AND d.dept_name IN ('Sales','Marketing')\n",
    "GROUP BY e.gender, e.emp_no, de.dept_no, d.dept_name, de.to_date\n"
   ]
  },
  {
   "cell_type": "code",
   "execution_count": 10,
   "id": "1d4e2f13",
   "metadata": {},
   "outputs": [
    {
     "name": "stdout",
     "output_type": "stream",
     "text": [
      "<class 'pandas.core.frame.DataFrame'>\n",
      "RangeIndex: 52543 entries, 0 to 52542\n",
      "Data columns (total 5 columns):\n",
      " #   Column     Non-Null Count  Dtype \n",
      "---  ------     --------------  ----- \n",
      " 0   gender     52543 non-null  object\n",
      " 1   emp_no     52543 non-null  int64 \n",
      " 2   dept_no    52543 non-null  object\n",
      " 3   dept_name  52543 non-null  object\n",
      " 4   to_date    52543 non-null  object\n",
      "dtypes: int64(1), object(4)\n",
      "memory usage: 2.0+ MB\n"
     ]
    }
   ],
   "source": [
    "emp_df.info()"
   ]
  },
  {
   "cell_type": "code",
   "execution_count": 103,
   "id": "5ee5d979",
   "metadata": {},
   "outputs": [
    {
     "name": "stdout",
     "output_type": "stream",
     "text": [
      "M    31680\n",
      "F    20863\n",
      "Name: gender, dtype: int64\n",
      "Sales        37701\n",
      "Marketing    14842\n",
      "Name: dept_name, dtype: int64\n"
     ]
    }
   ],
   "source": [
    "α = 0.05\n",
    "print(emp_df['gender'].value_counts())\n",
    "print(emp_df['dept_name'].value_counts())\n"
   ]
  },
  {
   "cell_type": "markdown",
   "id": "03be875e",
   "metadata": {},
   "source": [
    "**Hypotheses**  \n",
    "      \n",
    "    $H_0$ : Employee gender is indepenent of whether an employee works in Sales or in Marketing.    \n",
    "    $H_a$ : Employee gender is NOT independent of whether an employee works in Sales or in Marketing. "
   ]
  },
  {
   "cell_type": "code",
   "execution_count": 13,
   "id": "008e8569",
   "metadata": {},
   "outputs": [
    {
     "data": {
      "text/html": [
       "<div>\n",
       "<style scoped>\n",
       "    .dataframe tbody tr th:only-of-type {\n",
       "        vertical-align: middle;\n",
       "    }\n",
       "\n",
       "    .dataframe tbody tr th {\n",
       "        vertical-align: top;\n",
       "    }\n",
       "\n",
       "    .dataframe thead th {\n",
       "        text-align: right;\n",
       "    }\n",
       "</style>\n",
       "<table border=\"1\" class=\"dataframe\">\n",
       "  <thead>\n",
       "    <tr style=\"text-align: right;\">\n",
       "      <th>dept_name</th>\n",
       "      <th>Marketing</th>\n",
       "      <th>Sales</th>\n",
       "    </tr>\n",
       "    <tr>\n",
       "      <th>gender</th>\n",
       "      <th></th>\n",
       "      <th></th>\n",
       "    </tr>\n",
       "  </thead>\n",
       "  <tbody>\n",
       "    <tr>\n",
       "      <th>F</th>\n",
       "      <td>5864</td>\n",
       "      <td>14999</td>\n",
       "    </tr>\n",
       "    <tr>\n",
       "      <th>M</th>\n",
       "      <td>8978</td>\n",
       "      <td>22702</td>\n",
       "    </tr>\n",
       "  </tbody>\n",
       "</table>\n",
       "</div>"
      ],
      "text/plain": [
       "dept_name  Marketing  Sales\n",
       "gender                     \n",
       "F               5864  14999\n",
       "M               8978  22702"
      ]
     },
     "execution_count": 13,
     "metadata": {},
     "output_type": "execute_result"
    }
   ],
   "source": [
    "gend_dept_observed = pd.crosstab(emp_df.gender, emp_df.dept_name)\n",
    "gend_dept_observed\n"
   ]
  },
  {
   "cell_type": "code",
   "execution_count": 18,
   "id": "1ac8563a",
   "metadata": {},
   "outputs": [
    {
     "data": {
      "text/plain": [
       "(0.3240332004060638,\n",
       " 0.5691938610810126,\n",
       " 1,\n",
       " array([[ 5893.2426013, 14969.7573987],\n",
       "        [ 8948.7573987, 22731.2426013]]))"
      ]
     },
     "execution_count": 18,
     "metadata": {},
     "output_type": "execute_result"
    }
   ],
   "source": [
    "chi2_2, p_2, degf_2, expected_2 = stats.chi2_contingency(gend_dept_observed)\n",
    "\n",
    "chi2_2, p_2, degf_2, expected_2\n",
    "\n",
    "\n",
    "# Returns chi2, p-value, degree of freedom and an array : \n",
    "# The contingency table of expected values if everything were \n",
    "# proportional and there were no relationship between \n",
    "# the values 'gender' and 'dept_name'."
   ]
  },
  {
   "cell_type": "code",
   "execution_count": 28,
   "id": "fd794264",
   "metadata": {},
   "outputs": [
    {
     "name": "stdout",
     "output_type": "stream",
     "text": [
      "Observed Values :\n",
      "\n",
      "[[ 5864 14999]\n",
      " [ 8978 22702]]\n",
      "---\n",
      "Expected Values :\n",
      "\n",
      "[[ 5893 14969]\n",
      " [ 8948 22731]]\n",
      "---\n",
      "\n",
      "chi^2 = 0.32403\n",
      "p     = 0.56919\n",
      "---\n",
      "\n",
      "Is the p-value < α ? False . \n",
      "If p > α is True, then the Expected values are close to the Observed values and we fail to reject the null hypothesis.\n"
     ]
    }
   ],
   "source": [
    "\n",
    "# print 'Observed Values' followed by a new line\n",
    "print('Observed Values :\\n')\n",
    "\n",
    "\n",
    "# print the values from the 'observed' dataframe\n",
    "print(gend_dept_observed.values)\n",
    "\n",
    "\n",
    "# print --- and then a new line, 'Expected Values', followed by another new line\n",
    "print('---\\nExpected Values :\\n')\n",
    "\n",
    "\n",
    "# print the expected values array\n",
    "print(expected_2.astype(int))\n",
    "# this turns the floats into integers, for readability\n",
    "\n",
    "\n",
    "# print a new line\n",
    "print('---\\n')\n",
    "\n",
    "\n",
    "# print the chi2 value, formatted to a float with 4 digits. \n",
    "print(f'chi^2 = {chi2_2:.5f}') \n",
    "\n",
    "\n",
    "# print the p-value, formatted to a float with 4 digits {p:.4f}. \n",
    "print(f'p     = {p_2:.5f}')\n",
    "\n",
    "print('---\\n')\n",
    "\n",
    "print(f'Is the p-value < α ?', p_2 < α, \".\", \"\\nIf p > α is True, then the Expected values are close to the Observed values and we fail to reject the null hypothesis.\")\n",
    "\n",
    "# We know that the Expected values are close to the Observed values when the p-value is greater than α."
   ]
  },
  {
   "cell_type": "markdown",
   "id": "79392d35",
   "metadata": {},
   "source": [
    "**Conclusion**\n",
    "\n",
    "        The Observed values and the Expected values are very similar, having a p-value of 0.56919, as also evidenced by observing the data themselves.\n",
    "    \n",
    "        Therefore, we fail to reject the null hypothesis, which stated that gender is independent of working in Sales or in Marketing."
   ]
  },
  {
   "cell_type": "code",
   "execution_count": null,
   "id": "b7f8c59c",
   "metadata": {},
   "outputs": [],
   "source": []
  },
  {
   "cell_type": "code",
   "execution_count": null,
   "id": "113e8f43",
   "metadata": {},
   "outputs": [],
   "source": []
  },
  {
   "cell_type": "markdown",
   "id": "4fd1aaae",
   "metadata": {},
   "source": [
    "**4 /  b /  Is an employee's gender independent of whether or not they are or have been a manager ?**\n",
    "      \n",
    "      \n"
   ]
  },
  {
   "cell_type": "markdown",
   "id": "f1c6e8c0",
   "metadata": {},
   "source": [
    "SELECT e.gender, e.emp_no, t.title, t.to_date  \n",
    "FROM employees AS e  \n",
    "JOIN titles AS t  \n",
    "     USING (emp_no)  \n",
    "WHERE t.to_date = '9999-01-01' AND t.title like '%mana%'  \n",
    "GROUP BY e.gender, e.emp_no, t.title, t.to_date  "
   ]
  },
  {
   "cell_type": "code",
   "execution_count": 34,
   "id": "928f3ada",
   "metadata": {},
   "outputs": [],
   "source": [
    "db_url = f'mysql+pymysql://{env.username}:{env.password}@{env.host}/employees'\n",
    "mgr_df = pd.read_sql('''SELECT e.gender, e.emp_no, t.title, t.to_date\n",
    "                        FROM employees AS e\n",
    "                        JOIN titles AS t\n",
    "                            USING (emp_no)\n",
    "                        WHERE t.to_date = '9999-01-01' AND t.title IN('Manager')\n",
    "                        GROUP BY e.gender, e.emp_no, t.title, t.to_date''', db_url)"
   ]
  },
  {
   "cell_type": "code",
   "execution_count": 40,
   "id": "ae57b1f8",
   "metadata": {},
   "outputs": [],
   "source": [
    "db_url = f'mysql+pymysql://{env.username}:{env.password}@{env.host}/employees'\n",
    "not_mgr_df = pd.read_sql('''SELECT e.gender, e.emp_no, t.title, t.to_date\n",
    "                        FROM employees AS e\n",
    "                        JOIN titles AS t\n",
    "                            USING (emp_no)\n",
    "                        WHERE t.to_date = '9999-01-01' AND t.title NOT LIKE 'manager'\n",
    "                        GROUP BY e.gender, e.emp_no, t.title, t.to_date''', db_url)"
   ]
  },
  {
   "cell_type": "markdown",
   "id": "7494e906",
   "metadata": {},
   "source": [
    "**Hypotheses**  \n",
    "      \n",
    "    $H_0$ : Employee gender is independent of whether an employee has been a manager.    \n",
    "    $H_a$ : Employee gender is NOT independent of whether an employee has been a manager. "
   ]
  },
  {
   "cell_type": "code",
   "execution_count": 36,
   "id": "f34510aa",
   "metadata": {},
   "outputs": [
    {
     "name": "stdout",
     "output_type": "stream",
     "text": [
      "<class 'pandas.core.frame.DataFrame'>\n",
      "RangeIndex: 9 entries, 0 to 8\n",
      "Data columns (total 4 columns):\n",
      " #   Column   Non-Null Count  Dtype \n",
      "---  ------   --------------  ----- \n",
      " 0   gender   9 non-null      object\n",
      " 1   emp_no   9 non-null      int64 \n",
      " 2   title    9 non-null      object\n",
      " 3   to_date  9 non-null      object\n",
      "dtypes: int64(1), object(3)\n",
      "memory usage: 416.0+ bytes\n"
     ]
    }
   ],
   "source": [
    "mgr_df.info()"
   ]
  },
  {
   "cell_type": "code",
   "execution_count": 59,
   "id": "9a2b0932",
   "metadata": {},
   "outputs": [
    {
     "name": "stdout",
     "output_type": "stream",
     "text": [
      "<class 'pandas.core.frame.DataFrame'>\n",
      "RangeIndex: 240115 entries, 0 to 240114\n",
      "Data columns (total 4 columns):\n",
      " #   Column   Non-Null Count   Dtype \n",
      "---  ------   --------------   ----- \n",
      " 0   gender   240115 non-null  object\n",
      " 1   emp_no   240115 non-null  int64 \n",
      " 2   title    240115 non-null  object\n",
      " 3   to_date  240115 non-null  object\n",
      "dtypes: int64(1), object(3)\n",
      "memory usage: 7.3+ MB\n"
     ]
    }
   ],
   "source": [
    "not_mgr_df.info()"
   ]
  },
  {
   "cell_type": "code",
   "execution_count": 63,
   "id": "050f5342",
   "metadata": {},
   "outputs": [
    {
     "name": "stdout",
     "output_type": "stream",
     "text": [
      "M    5\n",
      "F    4\n",
      "Name: gender, dtype: int64\n",
      "Manager    9\n",
      "Name: title, dtype: int64\n",
      "Senior Engineer       85939\n",
      "Senior Staff          82024\n",
      "Engineer              30983\n",
      "Staff                 25526\n",
      "Technique Leader      12055\n",
      "Assistant Engineer     3588\n",
      "Name: title, dtype: int64\n"
     ]
    }
   ],
   "source": [
    "print(mgr_df['gender'].value_counts())\n",
    "print(mgr_df['title'].value_counts())\n",
    "print(not_mgr_df['title'].value_counts())"
   ]
  },
  {
   "cell_type": "code",
   "execution_count": 61,
   "id": "20960411",
   "metadata": {},
   "outputs": [
    {
     "data": {
      "text/html": [
       "<div>\n",
       "<style scoped>\n",
       "    .dataframe tbody tr th:only-of-type {\n",
       "        vertical-align: middle;\n",
       "    }\n",
       "\n",
       "    .dataframe tbody tr th {\n",
       "        vertical-align: top;\n",
       "    }\n",
       "\n",
       "    .dataframe thead th {\n",
       "        text-align: right;\n",
       "    }\n",
       "</style>\n",
       "<table border=\"1\" class=\"dataframe\">\n",
       "  <thead>\n",
       "    <tr style=\"text-align: right;\">\n",
       "      <th>title</th>\n",
       "      <th>Engineer</th>\n",
       "      <th>Senior Engineer</th>\n",
       "      <th>Senior Staff</th>\n",
       "      <th>Staff</th>\n",
       "    </tr>\n",
       "    <tr>\n",
       "      <th>gender</th>\n",
       "      <th></th>\n",
       "      <th></th>\n",
       "      <th></th>\n",
       "      <th></th>\n",
       "    </tr>\n",
       "  </thead>\n",
       "  <tbody>\n",
       "    <tr>\n",
       "      <th>F</th>\n",
       "      <td>0</td>\n",
       "      <td>2</td>\n",
       "      <td>1</td>\n",
       "      <td>1</td>\n",
       "    </tr>\n",
       "    <tr>\n",
       "      <th>M</th>\n",
       "      <td>1</td>\n",
       "      <td>3</td>\n",
       "      <td>1</td>\n",
       "      <td>0</td>\n",
       "    </tr>\n",
       "  </tbody>\n",
       "</table>\n",
       "</div>"
      ],
      "text/plain": [
       "title   Engineer  Senior Engineer  Senior Staff  Staff\n",
       "gender                                                \n",
       "F              0                2             1      1\n",
       "M              1                3             1      0"
      ]
     },
     "execution_count": 61,
     "metadata": {},
     "output_type": "execute_result"
    }
   ],
   "source": [
    "manager_expected = pd.crosstab(mgr_df.gender, not_mgr_df.title)\n",
    "manager_expected"
   ]
  },
  {
   "cell_type": "code",
   "execution_count": null,
   "id": "91311749",
   "metadata": {},
   "outputs": [],
   "source": []
  },
  {
   "cell_type": "markdown",
   "id": "13b51da8",
   "metadata": {},
   "source": [
    "### Q 4, Attempt 2, different strategy"
   ]
  },
  {
   "cell_type": "code",
   "execution_count": 45,
   "id": "a2a32044",
   "metadata": {},
   "outputs": [],
   "source": [
    "db_url = f'mysql+pymysql://{env.username}:{env.password}@{env.host}/employees'\n",
    "empt_title_df = pd.read_sql('''SELECT e.gender, e.emp_no, t.title, t.to_date\n",
    "                        FROM employees AS e\n",
    "                        JOIN titles AS t\n",
    "                            USING (emp_no)\n",
    "                        WHERE t.to_date = '9999-01-01'\n",
    "                        GROUP BY e.gender, e.emp_no, t.title, t.to_date''', db_url)"
   ]
  },
  {
   "cell_type": "code",
   "execution_count": null,
   "id": "bbf57557",
   "metadata": {},
   "outputs": [],
   "source": []
  },
  {
   "cell_type": "code",
   "execution_count": null,
   "id": "4ba1c97d",
   "metadata": {},
   "outputs": [],
   "source": []
  },
  {
   "cell_type": "code",
   "execution_count": 46,
   "id": "3033c018",
   "metadata": {},
   "outputs": [
    {
     "name": "stdout",
     "output_type": "stream",
     "text": [
      "<class 'pandas.core.frame.DataFrame'>\n",
      "RangeIndex: 240124 entries, 0 to 240123\n",
      "Data columns (total 4 columns):\n",
      " #   Column   Non-Null Count   Dtype \n",
      "---  ------   --------------   ----- \n",
      " 0   gender   240124 non-null  object\n",
      " 1   emp_no   240124 non-null  int64 \n",
      " 2   title    240124 non-null  object\n",
      " 3   to_date  240124 non-null  object\n",
      "dtypes: int64(1), object(3)\n",
      "memory usage: 7.3+ MB\n"
     ]
    }
   ],
   "source": [
    "emp_title_df.info()"
   ]
  },
  {
   "cell_type": "code",
   "execution_count": 67,
   "id": "ac223a51",
   "metadata": {},
   "outputs": [],
   "source": [
    "# create a Boolean variable that is a 1 if a employee is a manager (True), or a 0 otherwise (False).\n",
    "\n",
    "emp_title_df['is_manager'] = (emp_title_df['title'] == 'Manager').astype('int')\n"
   ]
  },
  {
   "cell_type": "code",
   "execution_count": 68,
   "id": "71454299",
   "metadata": {},
   "outputs": [
    {
     "data": {
      "text/html": [
       "<div>\n",
       "<style scoped>\n",
       "    .dataframe tbody tr th:only-of-type {\n",
       "        vertical-align: middle;\n",
       "    }\n",
       "\n",
       "    .dataframe tbody tr th {\n",
       "        vertical-align: top;\n",
       "    }\n",
       "\n",
       "    .dataframe thead th {\n",
       "        text-align: right;\n",
       "    }\n",
       "</style>\n",
       "<table border=\"1\" class=\"dataframe\">\n",
       "  <thead>\n",
       "    <tr style=\"text-align: right;\">\n",
       "      <th>gender</th>\n",
       "      <th>F</th>\n",
       "      <th>M</th>\n",
       "    </tr>\n",
       "    <tr>\n",
       "      <th>is_manager</th>\n",
       "      <th></th>\n",
       "      <th></th>\n",
       "    </tr>\n",
       "  </thead>\n",
       "  <tbody>\n",
       "    <tr>\n",
       "      <th>0</th>\n",
       "      <td>96006</td>\n",
       "      <td>144109</td>\n",
       "    </tr>\n",
       "    <tr>\n",
       "      <th>1</th>\n",
       "      <td>4</td>\n",
       "      <td>5</td>\n",
       "    </tr>\n",
       "  </tbody>\n",
       "</table>\n",
       "</div>"
      ],
      "text/plain": [
       "gender          F       M\n",
       "is_manager               \n",
       "0           96006  144109\n",
       "1               4       5"
      ]
     },
     "execution_count": 68,
     "metadata": {},
     "output_type": "execute_result"
    }
   ],
   "source": [
    "# generate a crosstab of managers ('is_manager') and 'gender'\n",
    "obsv_mgr  = pd.crosstab(emp_title_df['is_manager'], emp_title_df.gender)\n",
    " \n",
    "obsv_mgr "
   ]
  },
  {
   "cell_type": "code",
   "execution_count": 69,
   "id": "f53b61bc",
   "metadata": {},
   "outputs": [
    {
     "data": {
      "text/plain": [
       "(0.0,\n",
       " 1.0,\n",
       " 1,\n",
       " array([[9.60064015e+04, 1.44108599e+05],\n",
       "        [3.59851577e+00, 5.40148423e+00]]))"
      ]
     },
     "execution_count": 69,
     "metadata": {},
     "output_type": "execute_result"
    }
   ],
   "source": [
    "# run chi-square test\n",
    "chi2_3, p_3, degf_3, expected_3 = stats.chi2_contingency(obsv_mgr)\n",
    "chi2_3, p_3, degf_3, expected_3"
   ]
  },
  {
   "cell_type": "code",
   "execution_count": null,
   "id": "780e9054",
   "metadata": {},
   "outputs": [],
   "source": []
  },
  {
   "cell_type": "code",
   "execution_count": 71,
   "id": "a1bb4463",
   "metadata": {},
   "outputs": [
    {
     "name": "stdout",
     "output_type": "stream",
     "text": [
      "Observed Values :\n",
      "\n",
      "[[ 96006 144109]\n",
      " [     4      5]]\n",
      "---\n",
      "Expected Values :\n",
      "\n",
      "[[ 96006 144108]\n",
      " [     3      5]]\n",
      "---\n",
      "\n",
      "chi^2 = 0.00000\n",
      "p     = 1.00000\n",
      "---\n",
      "\n",
      "Is the p-value < α ? False . \n",
      "If p < α is False, then the Expected values are close to the Observed values and we fail to reject the null hypothesis.\n"
     ]
    }
   ],
   "source": [
    "\n",
    "# print 'Observed Values' followed by a new line\n",
    "print('Observed Values :\\n')\n",
    "\n",
    "\n",
    "# print the values from the 'observed' dataframe\n",
    "print(obsv_mgr.values)\n",
    "\n",
    "\n",
    "# print --- and then a new line, 'Expected Values', followed by another new line\n",
    "print('---\\nExpected Values :\\n')\n",
    "\n",
    "\n",
    "# print the expected values array\n",
    "print(expected_3.astype(int))\n",
    "# this turns the floats into integers, for readability\n",
    "\n",
    "\n",
    "# print a new line\n",
    "print('---\\n')\n",
    "\n",
    "\n",
    "# print the chi2 value, formatted to a float with 4 digits. \n",
    "print(f'chi^2 = {chi2_3:.5f}') \n",
    "\n",
    "\n",
    "# print the p-value, formatted to a float with 4 digits {p:.4f}. \n",
    "print(f'p     = {p_3:.5f}')\n",
    "\n",
    "print('---\\n')\n",
    "\n",
    "print(f'Is the p-value < α ?', p_3 < α, \".\", \"\\nIf p < α is False, then the Expected values are close to the Observed values and we fail to reject the null hypothesis.\")\n",
    "\n",
    "# We know that the Expected values are close to the Observed values when the p-value is greater than α."
   ]
  },
  {
   "cell_type": "code",
   "execution_count": null,
   "id": "eac5c986",
   "metadata": {},
   "outputs": [],
   "source": []
  },
  {
   "cell_type": "code",
   "execution_count": 76,
   "id": "781eedb4",
   "metadata": {},
   "outputs": [],
   "source": [
    "\n",
    "def eval_results(p_3, α, group1, group2):\n",
    "    '''\n",
    "    This function will take in the p-value, alpha and a name for the 2 variables \n",
    "    being compared (group 1 and group 2). It will return a string stating whether \n",
    "    there exists a relationship between the two groups.\n",
    "    '''\n",
    "    if p_3 < α:\n",
    "        print(f'There exists some relationship between {group1} and {group2}, (p-value: {p_3: .20f}).')\n",
    "    else:\n",
    "        print(f'There is not a significant relationship between {group1} and {group2}, (p-value: {p_3: .20f}).')\n",
    "        "
   ]
  },
  {
   "cell_type": "code",
   "execution_count": 78,
   "id": "95dd8c63",
   "metadata": {},
   "outputs": [
    {
     "name": "stdout",
     "output_type": "stream",
     "text": [
      "There is not a significant relationship between gender and title of manager, (p-value:  1.00000000000000000000).\n"
     ]
    }
   ],
   "source": [
    "eval_results(p_3, α, group1 = 'gender', group2 = 'title of manager')"
   ]
  },
  {
   "cell_type": "markdown",
   "id": "bc7a54fb",
   "metadata": {},
   "source": [
    "Conclusion\n",
    "\n",
    "    The Observed values and the Expected values are very similar, having a p-value of 1.0000, as also evidenced by observing the data themselves.\n",
    "\n",
    "    Therefore, we fail to reject the null hypothesis, which stated that gender is independent of having a title of manager."
   ]
  },
  {
   "cell_type": "code",
   "execution_count": null,
   "id": "7e502a4c",
   "metadata": {},
   "outputs": [],
   "source": []
  },
  {
   "cell_type": "markdown",
   "id": "4a17a2b7",
   "metadata": {},
   "source": [
    "    IN-CLASS ALTERNATE\n",
    "    "
   ]
  },
  {
   "cell_type": "code",
   "execution_count": 105,
   "id": "27d05058",
   "metadata": {},
   "outputs": [],
   "source": [
    "\n",
    "empt_title2 = pd.read_sql('''SELECT gender, dept_no FROM employees\n",
    "                                LEFT JOIN dept_manager USING(emp_no);''', db_url)"
   ]
  },
  {
   "cell_type": "code",
   "execution_count": 106,
   "id": "61339e58",
   "metadata": {},
   "outputs": [
    {
     "data": {
      "text/plain": [
       "d004    4\n",
       "d006    4\n",
       "d009    4\n",
       "d001    2\n",
       "d002    2\n",
       "d003    2\n",
       "d005    2\n",
       "d007    2\n",
       "d008    2\n",
       "Name: dept_no, dtype: int64"
      ]
     },
     "execution_count": 106,
     "metadata": {},
     "output_type": "execute_result"
    }
   ],
   "source": [
    "empt_title2['dept_no'].value_counts()"
   ]
  },
  {
   "cell_type": "code",
   "execution_count": 107,
   "id": "89f3ed68",
   "metadata": {},
   "outputs": [
    {
     "data": {
      "text/plain": [
       "0         True\n",
       "1         True\n",
       "2         True\n",
       "3         True\n",
       "4         True\n",
       "          ... \n",
       "300019    True\n",
       "300020    True\n",
       "300021    True\n",
       "300022    True\n",
       "300023    True\n",
       "Name: dept_no, Length: 300024, dtype: bool"
      ]
     },
     "execution_count": 107,
     "metadata": {},
     "output_type": "execute_result"
    }
   ],
   "source": [
    "empt_title2['dept_no'].isna()\n",
    "\n",
    "###  .isna() == is null (ie, True)\n",
    "### if null, then not a manager"
   ]
  },
  {
   "cell_type": "code",
   "execution_count": 111,
   "id": "9c4a2f64",
   "metadata": {},
   "outputs": [
    {
     "data": {
      "text/plain": [
       "True     300000\n",
       "False        24\n",
       "Name: dept_no, dtype: int64"
      ]
     },
     "execution_count": 111,
     "metadata": {},
     "output_type": "execute_result"
    }
   ],
   "source": [
    "empt_title2['dept_no'].isna().value_counts()"
   ]
  },
  {
   "cell_type": "code",
   "execution_count": 112,
   "id": "a97c1b62",
   "metadata": {},
   "outputs": [
    {
     "data": {
      "text/plain": [
       "array(['No', 'No', 'No', ..., 'No', 'No', 'No'], dtype='<U3')"
      ]
     },
     "execution_count": 112,
     "metadata": {},
     "output_type": "execute_result"
    }
   ],
   "source": [
    "np.where(empt_title2['dept_no'].isna(), 'No', 'Yes')\n",
    "\n",
    "# no = not a manager"
   ]
  },
  {
   "cell_type": "code",
   "execution_count": 116,
   "id": "0037fb1a",
   "metadata": {},
   "outputs": [
    {
     "data": {
      "text/html": [
       "<div>\n",
       "<style scoped>\n",
       "    .dataframe tbody tr th:only-of-type {\n",
       "        vertical-align: middle;\n",
       "    }\n",
       "\n",
       "    .dataframe tbody tr th {\n",
       "        vertical-align: top;\n",
       "    }\n",
       "\n",
       "    .dataframe thead th {\n",
       "        text-align: right;\n",
       "    }\n",
       "</style>\n",
       "<table border=\"1\" class=\"dataframe\">\n",
       "  <thead>\n",
       "    <tr style=\"text-align: right;\">\n",
       "      <th></th>\n",
       "      <th>gender</th>\n",
       "      <th>dept_no</th>\n",
       "      <th>is_manager</th>\n",
       "    </tr>\n",
       "  </thead>\n",
       "  <tbody>\n",
       "    <tr>\n",
       "      <th>0</th>\n",
       "      <td>M</td>\n",
       "      <td>None</td>\n",
       "      <td>No</td>\n",
       "    </tr>\n",
       "    <tr>\n",
       "      <th>1</th>\n",
       "      <td>F</td>\n",
       "      <td>None</td>\n",
       "      <td>No</td>\n",
       "    </tr>\n",
       "    <tr>\n",
       "      <th>2</th>\n",
       "      <td>M</td>\n",
       "      <td>None</td>\n",
       "      <td>No</td>\n",
       "    </tr>\n",
       "    <tr>\n",
       "      <th>3</th>\n",
       "      <td>M</td>\n",
       "      <td>None</td>\n",
       "      <td>No</td>\n",
       "    </tr>\n",
       "    <tr>\n",
       "      <th>4</th>\n",
       "      <td>M</td>\n",
       "      <td>None</td>\n",
       "      <td>No</td>\n",
       "    </tr>\n",
       "  </tbody>\n",
       "</table>\n",
       "</div>"
      ],
      "text/plain": [
       "  gender dept_no is_manager\n",
       "0      M    None         No\n",
       "1      F    None         No\n",
       "2      M    None         No\n",
       "3      M    None         No\n",
       "4      M    None         No"
      ]
     },
     "execution_count": 116,
     "metadata": {},
     "output_type": "execute_result"
    }
   ],
   "source": [
    "empt_title2['is_manager'] = np.where(empt_title2['dept_no'].isna(), 'No', 'Yes')\n",
    "empt_title2.head()"
   ]
  },
  {
   "cell_type": "code",
   "execution_count": 117,
   "id": "15b6ff77",
   "metadata": {},
   "outputs": [
    {
     "data": {
      "text/html": [
       "<div>\n",
       "<style scoped>\n",
       "    .dataframe tbody tr th:only-of-type {\n",
       "        vertical-align: middle;\n",
       "    }\n",
       "\n",
       "    .dataframe tbody tr th {\n",
       "        vertical-align: top;\n",
       "    }\n",
       "\n",
       "    .dataframe thead th {\n",
       "        text-align: right;\n",
       "    }\n",
       "</style>\n",
       "<table border=\"1\" class=\"dataframe\">\n",
       "  <thead>\n",
       "    <tr style=\"text-align: right;\">\n",
       "      <th>is_manager</th>\n",
       "      <th>No</th>\n",
       "      <th>Yes</th>\n",
       "    </tr>\n",
       "    <tr>\n",
       "      <th>gender</th>\n",
       "      <th></th>\n",
       "      <th></th>\n",
       "    </tr>\n",
       "  </thead>\n",
       "  <tbody>\n",
       "    <tr>\n",
       "      <th>F</th>\n",
       "      <td>120038</td>\n",
       "      <td>13</td>\n",
       "    </tr>\n",
       "    <tr>\n",
       "      <th>M</th>\n",
       "      <td>179962</td>\n",
       "      <td>11</td>\n",
       "    </tr>\n",
       "  </tbody>\n",
       "</table>\n",
       "</div>"
      ],
      "text/plain": [
       "is_manager      No  Yes\n",
       "gender                 \n",
       "F           120038   13\n",
       "M           179962   11"
      ]
     },
     "execution_count": 117,
     "metadata": {},
     "output_type": "execute_result"
    }
   ],
   "source": [
    "pd.crosstab(empt_title2.gender, empt_title2.is_manager)"
   ]
  },
  {
   "cell_type": "code",
   "execution_count": 118,
   "id": "eb68bfb8",
   "metadata": {},
   "outputs": [
    {
     "data": {
      "text/plain": [
       "(1.4566857643547197,\n",
       " 0.22745818732810363,\n",
       " 1,\n",
       " array([[1.20041397e+05, 9.60331174e+00],\n",
       "        [1.79958603e+05, 1.43966883e+01]]))"
      ]
     },
     "execution_count": 118,
     "metadata": {},
     "output_type": "execute_result"
    }
   ],
   "source": [
    "chi2_9, p_9, degf_9, expected_9 = stats.chi2_contingency(pd.crosstab(empt_title2.gender, empt_title2.is_manager))\n",
    "chi2_9, p_9, degf_9, expected_9"
   ]
  },
  {
   "cell_type": "code",
   "execution_count": 120,
   "id": "332fc1dd",
   "metadata": {},
   "outputs": [
    {
     "name": "stdout",
     "output_type": "stream",
     "text": [
      "Observed Values :\n",
      "\n",
      "[[120038     13]\n",
      " [179962     11]]\n",
      "---\n",
      "Expected Values :\n",
      "\n",
      "[[120041      9]\n",
      " [179958     14]]\n",
      "---\n",
      "\n",
      "chi^2 = 1.45669\n",
      "p     = 0.22746\n",
      "---\n",
      "\n",
      "Is the p-value < α ? False . \n",
      "If p < α is False, then the Expected values are close to the Observed values and we fail to reject the null hypothesis.\n"
     ]
    }
   ],
   "source": [
    "\n",
    "# print 'Observed Values' followed by a new line\n",
    "print('Observed Values :\\n')\n",
    "\n",
    "\n",
    "# print the values from the 'observed' dataframe\n",
    "print(pd.crosstab(empt_title2.gender, empt_title2.is_manager).values)\n",
    "\n",
    "\n",
    "# print --- and then a new line, 'Expected Values', followed by another new line\n",
    "print('---\\nExpected Values :\\n')\n",
    "\n",
    "\n",
    "# print the expected values array\n",
    "print(expected_9.astype(int))\n",
    "# this turns the floats into integers, for readability\n",
    "\n",
    "\n",
    "# print a new line\n",
    "print('---\\n')\n",
    "\n",
    "\n",
    "# print the chi2 value, formatted to a float with 4 digits. \n",
    "print(f'chi^2 = {chi2_9:.5f}') \n",
    "\n",
    "\n",
    "# print the p-value, formatted to a float with 4 digits {p:.4f}. \n",
    "print(f'p     = {p_9:.5f}')\n",
    "\n",
    "print('---\\n')\n",
    "\n",
    "print(f'Is the p-value < α ?', p_9 < α, \".\", \"\\nIf p < α is False, then the Expected values are close to the Observed values and we fail to reject the null hypothesis.\")\n",
    "\n",
    "# We know that the Expected values are close to the Observed values when the p-value is greater than α."
   ]
  },
  {
   "cell_type": "code",
   "execution_count": null,
   "id": "e737f751",
   "metadata": {},
   "outputs": [],
   "source": []
  }
 ],
 "metadata": {
  "kernelspec": {
   "display_name": "Python 3 (ipykernel)",
   "language": "python",
   "name": "python3"
  },
  "language_info": {
   "codemirror_mode": {
    "name": "ipython",
    "version": 3
   },
   "file_extension": ".py",
   "mimetype": "text/x-python",
   "name": "python",
   "nbconvert_exporter": "python",
   "pygments_lexer": "ipython3",
   "version": "3.9.13"
  }
 },
 "nbformat": 4,
 "nbformat_minor": 5
}
