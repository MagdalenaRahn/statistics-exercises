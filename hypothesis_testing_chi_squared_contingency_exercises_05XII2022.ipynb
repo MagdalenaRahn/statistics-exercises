{
 "cells": [
  {
   "cell_type": "markdown",
   "id": "b06a625b",
   "metadata": {},
   "source": [
    "**1 / Answer with the type of stats test you would use (assume normal distribution):**\n",
    "     \n",
    "       a /  Do students get better test grades if they have a rubber duck on their desk ?  \n",
    "        T-Test or Mann-Whitney Test, 1-tailed.   \n",
    "        \n",
    "       b /  Does smoking affect when or not someone has lung cancer ?  \n",
    "        Chi-squared.  \n",
    "        \n",
    "       c /  Is gender independent of a person’s blood type ?\n",
    "        Chi-squared  (or, ANOVA ?).\n",
    "        \n",
    "       d /  A farming company wants to know if a new fertilizer has improved crop yield or not.  \n",
    "        T-Test or Mann-Whitney Test, 1-tailed.\n",
    "        \n",
    "       e / Does the length of time of the lecture correlate with a student's grade ?\n",
    "        Pearson's R or Spearman's R.\n",
    "        \n",
    "       f/ Do people with dogs live in apartments more than people with cats ?\n",
    "        Chi-squared."
   ]
  },
  {
   "cell_type": "markdown",
   "id": "1729c466",
   "metadata": {},
   "source": [
    "**2 / Use the following contingency table to help answer the question of whether using a Macbook and being a Codeup student are independent of each other.**\n",
    "\n",
    "\n",
    "                    Codeup Student \tNot Codeup Student\n",
    "            Uses a Macbook \t49      20\n",
    "     Doesn't Use A Macbook \t1       30\n",
    "     \n",
    "Based on the above contingency table, it would appear that there is a strong correlation between being a Codeup student and using a Macbook, particularly as compared with those falling under 'Not Codeup Student', hence they are NOT independent."
   ]
  },
  {
   "cell_type": "markdown",
   "id": "0e3b8aed",
   "metadata": {},
   "source": [
    ".\n"
   ]
  },
  {
   "cell_type": "markdown",
   "id": "d376d2d8",
   "metadata": {},
   "source": [
    "\n",
    "\n",
    "**3 / Choose another 2 categorical variables from the mpg dataset and perform a 𝑐ℎ𝑖2 contingency table test with them. Be sure to state your null and alternative hypotheses.**"
   ]
  },
  {
   "cell_type": "code",
   "execution_count": 21,
   "id": "95c85e81",
   "metadata": {},
   "outputs": [
    {
     "data": {
      "text/html": [
       "<div>\n",
       "<style scoped>\n",
       "    .dataframe tbody tr th:only-of-type {\n",
       "        vertical-align: middle;\n",
       "    }\n",
       "\n",
       "    .dataframe tbody tr th {\n",
       "        vertical-align: top;\n",
       "    }\n",
       "\n",
       "    .dataframe thead th {\n",
       "        text-align: right;\n",
       "    }\n",
       "</style>\n",
       "<table border=\"1\" class=\"dataframe\">\n",
       "  <thead>\n",
       "    <tr style=\"text-align: right;\">\n",
       "      <th></th>\n",
       "      <th>manufacturer</th>\n",
       "      <th>model</th>\n",
       "      <th>displ</th>\n",
       "      <th>year</th>\n",
       "      <th>cyl</th>\n",
       "      <th>trans</th>\n",
       "      <th>drv</th>\n",
       "      <th>cty</th>\n",
       "      <th>hwy</th>\n",
       "      <th>fl</th>\n",
       "      <th>class</th>\n",
       "    </tr>\n",
       "  </thead>\n",
       "  <tbody>\n",
       "    <tr>\n",
       "      <th>1</th>\n",
       "      <td>audi</td>\n",
       "      <td>a4</td>\n",
       "      <td>1.8</td>\n",
       "      <td>1999</td>\n",
       "      <td>4</td>\n",
       "      <td>auto(l5)</td>\n",
       "      <td>f</td>\n",
       "      <td>18</td>\n",
       "      <td>29</td>\n",
       "      <td>p</td>\n",
       "      <td>compact</td>\n",
       "    </tr>\n",
       "    <tr>\n",
       "      <th>2</th>\n",
       "      <td>audi</td>\n",
       "      <td>a4</td>\n",
       "      <td>1.8</td>\n",
       "      <td>1999</td>\n",
       "      <td>4</td>\n",
       "      <td>manual(m5)</td>\n",
       "      <td>f</td>\n",
       "      <td>21</td>\n",
       "      <td>29</td>\n",
       "      <td>p</td>\n",
       "      <td>compact</td>\n",
       "    </tr>\n",
       "    <tr>\n",
       "      <th>3</th>\n",
       "      <td>audi</td>\n",
       "      <td>a4</td>\n",
       "      <td>2.0</td>\n",
       "      <td>2008</td>\n",
       "      <td>4</td>\n",
       "      <td>manual(m6)</td>\n",
       "      <td>f</td>\n",
       "      <td>20</td>\n",
       "      <td>31</td>\n",
       "      <td>p</td>\n",
       "      <td>compact</td>\n",
       "    </tr>\n",
       "    <tr>\n",
       "      <th>4</th>\n",
       "      <td>audi</td>\n",
       "      <td>a4</td>\n",
       "      <td>2.0</td>\n",
       "      <td>2008</td>\n",
       "      <td>4</td>\n",
       "      <td>auto(av)</td>\n",
       "      <td>f</td>\n",
       "      <td>21</td>\n",
       "      <td>30</td>\n",
       "      <td>p</td>\n",
       "      <td>compact</td>\n",
       "    </tr>\n",
       "    <tr>\n",
       "      <th>5</th>\n",
       "      <td>audi</td>\n",
       "      <td>a4</td>\n",
       "      <td>2.8</td>\n",
       "      <td>1999</td>\n",
       "      <td>6</td>\n",
       "      <td>auto(l5)</td>\n",
       "      <td>f</td>\n",
       "      <td>16</td>\n",
       "      <td>26</td>\n",
       "      <td>p</td>\n",
       "      <td>compact</td>\n",
       "    </tr>\n",
       "  </tbody>\n",
       "</table>\n",
       "</div>"
      ],
      "text/plain": [
       "  manufacturer model  displ  year  cyl       trans drv  cty  hwy fl    class\n",
       "1         audi    a4    1.8  1999    4    auto(l5)   f   18   29  p  compact\n",
       "2         audi    a4    1.8  1999    4  manual(m5)   f   21   29  p  compact\n",
       "3         audi    a4    2.0  2008    4  manual(m6)   f   20   31  p  compact\n",
       "4         audi    a4    2.0  2008    4    auto(av)   f   21   30  p  compact\n",
       "5         audi    a4    2.8  1999    6    auto(l5)   f   16   26  p  compact"
      ]
     },
     "execution_count": 21,
     "metadata": {},
     "output_type": "execute_result"
    }
   ],
   "source": [
    "# imports\n",
    "\n",
    "import pandas as pd\n",
    "from scipy import stats\n",
    "from pydataset import data\n",
    "import numpy as np\n",
    "import env\n",
    "\n",
    "mpg = data('mpg')\n",
    "mpg.head()"
   ]
  },
  {
   "cell_type": "markdown",
   "id": "5400f5f9",
   "metadata": {},
   "source": [
    "**Hypotheses :**  \n",
    "    - $H_0$ : Manufacturer is independent of vehicle transmission.  \n",
    "    -    $H_a$ : Manufacturer is NOT independent of vehicle transmission."
   ]
  },
  {
   "cell_type": "code",
   "execution_count": 11,
   "id": "763fc78f",
   "metadata": {},
   "outputs": [
    {
     "name": "stdout",
     "output_type": "stream",
     "text": [
      "dodge         37\n",
      "toyota        34\n",
      "volkswagen    27\n",
      "ford          25\n",
      "chevrolet     19\n",
      "audi          18\n",
      "hyundai       14\n",
      "subaru        14\n",
      "nissan        13\n",
      "honda          9\n",
      "jeep           8\n",
      "pontiac        5\n",
      "land rover     4\n",
      "mercury        4\n",
      "lincoln        3\n",
      "Name: manufacturer, dtype: int64\n",
      ".-.-.-.-\n",
      "auto(l4)      83\n",
      "manual(m5)    58\n",
      "auto(l5)      39\n",
      "manual(m6)    19\n",
      "auto(s6)      16\n",
      "auto(l6)       6\n",
      "auto(av)       5\n",
      "auto(s5)       3\n",
      "auto(s4)       3\n",
      "auto(l3)       2\n",
      "Name: trans, dtype: int64\n"
     ]
    }
   ],
   "source": [
    "print(mpg['manufacturer'].value_counts())\n",
    "print('.-.-.-.-')\n",
    "print(mpg['trans'].value_counts())"
   ]
  },
  {
   "cell_type": "code",
   "execution_count": 12,
   "id": "fc88a1b0",
   "metadata": {},
   "outputs": [
    {
     "data": {
      "text/plain": [
       "auto      157\n",
       "manual     77\n",
       "Name: trans, dtype: int64"
      ]
     },
     "execution_count": 12,
     "metadata": {},
     "output_type": "execute_result"
    }
   ],
   "source": [
    "# removing final 4 characters from 'trans' so that the transmission type \n",
    "# fits into solely automatic or manual categories\n",
    "\n",
    "mpg['trans'] = mpg['trans'].str[:-4]\n",
    "mpg['trans'].value_counts()"
   ]
  },
  {
   "cell_type": "code",
   "execution_count": 14,
   "id": "5d86bc32",
   "metadata": {},
   "outputs": [
    {
     "data": {
      "text/html": [
       "<div>\n",
       "<style scoped>\n",
       "    .dataframe tbody tr th:only-of-type {\n",
       "        vertical-align: middle;\n",
       "    }\n",
       "\n",
       "    .dataframe tbody tr th {\n",
       "        vertical-align: top;\n",
       "    }\n",
       "\n",
       "    .dataframe thead th {\n",
       "        text-align: right;\n",
       "    }\n",
       "</style>\n",
       "<table border=\"1\" class=\"dataframe\">\n",
       "  <thead>\n",
       "    <tr style=\"text-align: right;\">\n",
       "      <th>trans</th>\n",
       "      <th>auto</th>\n",
       "      <th>manual</th>\n",
       "    </tr>\n",
       "    <tr>\n",
       "      <th>manufacturer</th>\n",
       "      <th></th>\n",
       "      <th></th>\n",
       "    </tr>\n",
       "  </thead>\n",
       "  <tbody>\n",
       "    <tr>\n",
       "      <th>audi</th>\n",
       "      <td>11</td>\n",
       "      <td>7</td>\n",
       "    </tr>\n",
       "    <tr>\n",
       "      <th>chevrolet</th>\n",
       "      <td>16</td>\n",
       "      <td>3</td>\n",
       "    </tr>\n",
       "    <tr>\n",
       "      <th>dodge</th>\n",
       "      <td>30</td>\n",
       "      <td>7</td>\n",
       "    </tr>\n",
       "    <tr>\n",
       "      <th>ford</th>\n",
       "      <td>17</td>\n",
       "      <td>8</td>\n",
       "    </tr>\n",
       "    <tr>\n",
       "      <th>honda</th>\n",
       "      <td>4</td>\n",
       "      <td>5</td>\n",
       "    </tr>\n",
       "    <tr>\n",
       "      <th>hyundai</th>\n",
       "      <td>7</td>\n",
       "      <td>7</td>\n",
       "    </tr>\n",
       "    <tr>\n",
       "      <th>jeep</th>\n",
       "      <td>8</td>\n",
       "      <td>0</td>\n",
       "    </tr>\n",
       "    <tr>\n",
       "      <th>land rover</th>\n",
       "      <td>4</td>\n",
       "      <td>0</td>\n",
       "    </tr>\n",
       "    <tr>\n",
       "      <th>lincoln</th>\n",
       "      <td>3</td>\n",
       "      <td>0</td>\n",
       "    </tr>\n",
       "    <tr>\n",
       "      <th>mercury</th>\n",
       "      <td>4</td>\n",
       "      <td>0</td>\n",
       "    </tr>\n",
       "    <tr>\n",
       "      <th>nissan</th>\n",
       "      <td>8</td>\n",
       "      <td>5</td>\n",
       "    </tr>\n",
       "    <tr>\n",
       "      <th>pontiac</th>\n",
       "      <td>5</td>\n",
       "      <td>0</td>\n",
       "    </tr>\n",
       "    <tr>\n",
       "      <th>subaru</th>\n",
       "      <td>7</td>\n",
       "      <td>7</td>\n",
       "    </tr>\n",
       "    <tr>\n",
       "      <th>toyota</th>\n",
       "      <td>20</td>\n",
       "      <td>14</td>\n",
       "    </tr>\n",
       "    <tr>\n",
       "      <th>volkswagen</th>\n",
       "      <td>13</td>\n",
       "      <td>14</td>\n",
       "    </tr>\n",
       "  </tbody>\n",
       "</table>\n",
       "</div>"
      ],
      "text/plain": [
       "trans         auto  manual\n",
       "manufacturer              \n",
       "audi            11       7\n",
       "chevrolet       16       3\n",
       "dodge           30       7\n",
       "ford            17       8\n",
       "honda            4       5\n",
       "hyundai          7       7\n",
       "jeep             8       0\n",
       "land rover       4       0\n",
       "lincoln          3       0\n",
       "mercury          4       0\n",
       "nissan           8       5\n",
       "pontiac          5       0\n",
       "subaru           7       7\n",
       "toyota          20      14\n",
       "volkswagen      13      14"
      ]
     },
     "execution_count": 14,
     "metadata": {},
     "output_type": "execute_result"
    }
   ],
   "source": [
    "mfg_trans_observed = pd.crosstab(mpg.manufacturer, mpg.trans)\n",
    "mfg_trans_observed"
   ]
  },
  {
   "cell_type": "code",
   "execution_count": 15,
   "id": "fb4fd0d3",
   "metadata": {},
   "outputs": [
    {
     "data": {
      "text/plain": [
       "(29.293684393117655,\n",
       " 0.00953444310358795,\n",
       " 14,\n",
       " array([[12.07692308,  5.92307692],\n",
       "        [12.74786325,  6.25213675],\n",
       "        [24.82478632, 12.17521368],\n",
       "        [16.77350427,  8.22649573],\n",
       "        [ 6.03846154,  2.96153846],\n",
       "        [ 9.39316239,  4.60683761],\n",
       "        [ 5.36752137,  2.63247863],\n",
       "        [ 2.68376068,  1.31623932],\n",
       "        [ 2.01282051,  0.98717949],\n",
       "        [ 2.68376068,  1.31623932],\n",
       "        [ 8.72222222,  4.27777778],\n",
       "        [ 3.35470085,  1.64529915],\n",
       "        [ 9.39316239,  4.60683761],\n",
       "        [22.81196581, 11.18803419],\n",
       "        [18.11538462,  8.88461538]]))"
      ]
     },
     "execution_count": 15,
     "metadata": {},
     "output_type": "execute_result"
    }
   ],
   "source": [
    "chi2_1, p_1, degf_1, expected_1 = stats.chi2_contingency(mfg_trans_observed)\n",
    "\n",
    "chi2_1, p_1, degf_1, expected_1\n",
    "\n",
    "# returns chi2, p-value, degree of freedom and an array : the contingency table of \n",
    "# expected values if everything were proportional and there were no relationship \n",
    "# between the values 'manufacturer' and 'trans'."
   ]
  },
  {
   "cell_type": "code",
   "execution_count": 17,
   "id": "5f8ada3f",
   "metadata": {},
   "outputs": [
    {
     "name": "stdout",
     "output_type": "stream",
     "text": [
      "Observed Values :\n",
      "\n",
      "[[11  7]\n",
      " [16  3]\n",
      " [30  7]\n",
      " [17  8]\n",
      " [ 4  5]\n",
      " [ 7  7]\n",
      " [ 8  0]\n",
      " [ 4  0]\n",
      " [ 3  0]\n",
      " [ 4  0]\n",
      " [ 8  5]\n",
      " [ 5  0]\n",
      " [ 7  7]\n",
      " [20 14]\n",
      " [13 14]]\n",
      "---\n",
      "Expected Values :\n",
      "\n",
      "[[12  5]\n",
      " [12  6]\n",
      " [24 12]\n",
      " [16  8]\n",
      " [ 6  2]\n",
      " [ 9  4]\n",
      " [ 5  2]\n",
      " [ 2  1]\n",
      " [ 2  0]\n",
      " [ 2  1]\n",
      " [ 8  4]\n",
      " [ 3  1]\n",
      " [ 9  4]\n",
      " [22 11]\n",
      " [18  8]]\n",
      "---\n",
      "\n",
      "chi^2 = 29.2937\n",
      "p     = 0.0095\n",
      "---\n",
      "\n",
      "Is the p-value < α ? True\n"
     ]
    }
   ],
   "source": [
    "α = 0.05\n",
    "\n",
    "# print 'Observed Values' followed by a new line\n",
    "print('Observed Values :\\n')\n",
    "\n",
    "\n",
    "# print the values from the 'observed' dataframe\n",
    "print(mfg_trans_observed.values)\n",
    "\n",
    "\n",
    "# print --- and then a new line, 'Expected Values', followed by another new line\n",
    "print('---\\nExpected Values :\\n')\n",
    "\n",
    "\n",
    "# print the expected values array\n",
    "print(expected_1.astype(int))\n",
    "# this turns the floats into integers, for readability\n",
    "\n",
    "\n",
    "# print a new line\n",
    "print('---\\n')\n",
    "\n",
    "\n",
    "# print the chi2 value, formatted to a float with 4 digits. \n",
    "print(f'chi^2 = {chi2_1:.4f}') \n",
    "\n",
    "\n",
    "# print the p-value, formatted to a float with 4 digits {p:.4f}. \n",
    "print(f'p     = {p_1:.4f}')\n",
    "\n",
    "print('---\\n')\n",
    "\n",
    "print(f'Is the p-value < α ?', p_1 < α)\n",
    "\n",
    "# We know that the expected values are close to the Observed values due to the p-value being greater than α."
   ]
  },
  {
   "cell_type": "markdown",
   "id": "c1771a66",
   "metadata": {},
   "source": [
    "Conclusion :  \n",
    "\n",
    "    When comparing the two contingency tables, we can see that the observed values are somewhat close to the expected values, due to the p-value being less slightly than α, at p = 0.0095.   \n",
    "    \n",
    "    Because the p-value is less than α, _we reject the null hypothesis_, and confirm that, using this available data sample, there DOES appear to be a notable relationship between manufacturer and type of transmission."
   ]
  },
  {
   "cell_type": "code",
   "execution_count": null,
   "id": "b365da3f",
   "metadata": {},
   "outputs": [],
   "source": []
  },
  {
   "cell_type": "markdown",
   "id": "dfa379a9",
   "metadata": {},
   "source": [
    "**4 / a /  Use the data from the employees database.** Is an employee's gender independent of whether an employee works in sales or marketing?   \n",
    "(Only look at current employees.) "
   ]
  },
  {
   "cell_type": "code",
   "execution_count": 27,
   "id": "a815d7eb",
   "metadata": {},
   "outputs": [],
   "source": [
    "db_url = f'mysql+pymysql://{env.username}:{env.password}@{env.host}/employees'\n",
    "emp_df = pd.read_sql('''SELECT * FROM employees \n",
    "                        JOIN dept_emp USING (emp_no) \n",
    "                        WHERE to_date = \"9999-01-01\"''', db_url)\n"
   ]
  },
  {
   "cell_type": "code",
   "execution_count": 25,
   "id": "1d4e2f13",
   "metadata": {},
   "outputs": [
    {
     "name": "stdout",
     "output_type": "stream",
     "text": [
      "<class 'pandas.core.frame.DataFrame'>\n",
      "RangeIndex: 240124 entries, 0 to 240123\n",
      "Data columns (total 9 columns):\n",
      " #   Column      Non-Null Count   Dtype \n",
      "---  ------      --------------   ----- \n",
      " 0   emp_no      240124 non-null  int64 \n",
      " 1   birth_date  240124 non-null  object\n",
      " 2   first_name  240124 non-null  object\n",
      " 3   last_name   240124 non-null  object\n",
      " 4   gender      240124 non-null  object\n",
      " 5   hire_date   240124 non-null  object\n",
      " 6   salary      240124 non-null  int64 \n",
      " 7   from_date   240124 non-null  object\n",
      " 8   to_date     240124 non-null  object\n",
      "dtypes: int64(2), object(7)\n",
      "memory usage: 16.5+ MB\n"
     ]
    }
   ],
   "source": [
    "emp_df.info()"
   ]
  },
  {
   "cell_type": "code",
   "execution_count": 26,
   "id": "5ee5d979",
   "metadata": {},
   "outputs": [
    {
     "name": "stdout",
     "output_type": "stream",
     "text": [
      "M    144114\n",
      "F     96010\n",
      "Name: gender, dtype: int64\n"
     ]
    }
   ],
   "source": [
    "print(emp_df['gender'].value_counts())\n",
    "print(emp_df['gender'].value_counts())\n"
   ]
  },
  {
   "cell_type": "code",
   "execution_count": null,
   "id": "8ee90d34",
   "metadata": {},
   "outputs": [],
   "source": [
    "## Work-in-progress in a SQL notebook. Not yet been able to resolve."
   ]
  },
  {
   "cell_type": "markdown",
   "id": "4fd1aaae",
   "metadata": {},
   "source": [
    "**4 /  b /  Is an employee's gender independent of whether or not they are or have been a manager ?**\n",
    "      \n",
    "      \n"
   ]
  }
 ],
 "metadata": {
  "kernelspec": {
   "display_name": "Python 3 (ipykernel)",
   "language": "python",
   "name": "python3"
  },
  "language_info": {
   "codemirror_mode": {
    "name": "ipython",
    "version": 3
   },
   "file_extension": ".py",
   "mimetype": "text/x-python",
   "name": "python",
   "nbconvert_exporter": "python",
   "pygments_lexer": "ipython3",
   "version": "3.9.13"
  }
 },
 "nbformat": 4,
 "nbformat_minor": 5
}
