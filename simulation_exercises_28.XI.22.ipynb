{
 "cells": [
  {
   "cell_type": "code",
   "execution_count": 1,
   "id": "1d10408a",
   "metadata": {},
   "outputs": [],
   "source": [
    "%matplotlib inline\n",
    "import numpy as np\n",
    "import pandas as pd\n",
    "\n",
    "import viz # curriculum example visualisations\n",
    "\n",
    "np.random.seed(29)"
   ]
  },
  {
   "cell_type": "markdown",
   "id": "5d3f6117",
   "metadata": {},
   "source": [
    "#### 1 / How likely is it that you roll doubles when rolling two dice?\n"
   ]
  },
  {
   "cell_type": "code",
   "execution_count": 82,
   "id": "1aadb647",
   "metadata": {},
   "outputs": [
    {
     "data": {
      "text/plain": [
       "array([[2, 2],\n",
       "       [1, 4],\n",
       "       [4, 3],\n",
       "       ...,\n",
       "       [6, 1],\n",
       "       [5, 5],\n",
       "       [3, 4]])"
      ]
     },
     "execution_count": 82,
     "metadata": {},
     "output_type": "execute_result"
    }
   ],
   "source": [
    "\n",
    "n_trials = nrows = 1_0000\n",
    "\n",
    "n_dice = ncols = 2\n",
    "# represents number of dice rolled\n",
    "\n",
    "# using random choice to select from provided-below list. Reshape into columns.\n",
    "rolls = np.random.choice([1,2,3,4,5,6], n_trials * n_dice).reshape(nrows, ncols)\n",
    "rolls"
   ]
  },
  {
   "cell_type": "code",
   "execution_count": 83,
   "id": "c30768cb",
   "metadata": {},
   "outputs": [
    {
     "data": {
      "text/plain": [
       "0.1697"
      ]
     },
     "execution_count": 83,
     "metadata": {},
     "output_type": "execute_result"
    }
   ],
   "source": [
    "chancey = (pd.DataFrame(rolls)\n",
    "        .apply(lambda row: row[0] == row[1], axis=1)\n",
    "        .mean())\n",
    "\n",
    "chancey\n",
    "\n",
    "# The lambda does : for each row, check if the digit in the 1st index equals the digit in the 2nd index"
   ]
  },
  {
   "cell_type": "code",
   "execution_count": null,
   "id": "f9ab3f7f",
   "metadata": {},
   "outputs": [],
   "source": []
  },
  {
   "cell_type": "markdown",
   "id": "95849c2c",
   "metadata": {},
   "source": [
    "#### 2 / If you flip 8 coins, what is the probability of getting exactly 3 heads?  What is the probability of getting more than 3 heads?\n"
   ]
  },
  {
   "cell_type": "code",
   "execution_count": 44,
   "id": "ae97f883",
   "metadata": {},
   "outputs": [],
   "source": [
    "n_trials = nrows = 1500\n",
    "n_coins = ncols = 8\n",
    "H = 0\n",
    "T = 1\n"
   ]
  },
  {
   "cell_type": "code",
   "execution_count": 45,
   "id": "df03e4be",
   "metadata": {},
   "outputs": [
    {
     "data": {
      "text/plain": [
       "array([[0, 0, 0, ..., 0, 1, 1],\n",
       "       [1, 1, 1, ..., 0, 0, 1],\n",
       "       [0, 1, 0, ..., 1, 1, 1],\n",
       "       ...,\n",
       "       [0, 0, 1, ..., 1, 1, 0],\n",
       "       [1, 1, 1, ..., 1, 0, 1],\n",
       "       [1, 1, 1, ..., 1, 0, 0]])"
      ]
     },
     "execution_count": 45,
     "metadata": {},
     "output_type": "execute_result"
    }
   ],
   "source": [
    "flips = np.random.choice([0, 1], n_trials * n_coins).reshape(nrows, ncols)\n",
    "flips\n"
   ]
  },
  {
   "cell_type": "code",
   "execution_count": 46,
   "id": "02be2489",
   "metadata": {},
   "outputs": [
    {
     "data": {
      "text/plain": [
       "array([3, 4, 5, ..., 4, 5, 4])"
      ]
     },
     "execution_count": 46,
     "metadata": {},
     "output_type": "execute_result"
    }
   ],
   "source": [
    "# computing the sum of each roll (event)\n",
    "\n",
    "sums_of_flips = flips.sum(axis = 1)\n",
    "\n",
    "# return the array of each sum\n",
    "sums_of_flips"
   ]
  },
  {
   "cell_type": "code",
   "execution_count": 47,
   "id": "9d5cb1e5",
   "metadata": {},
   "outputs": [
    {
     "data": {
      "text/plain": [
       "array([ True, False, False, ..., False, False, False])"
      ]
     },
     "execution_count": 47,
     "metadata": {},
     "output_type": "execute_result"
    }
   ],
   "source": [
    "three_heads = sums_of_flips == 3\n",
    "three_heads"
   ]
  },
  {
   "cell_type": "code",
   "execution_count": 52,
   "id": "0aee6dd6",
   "metadata": {},
   "outputs": [
    {
     "data": {
      "text/plain": [
       "0.2133"
      ]
     },
     "execution_count": 52,
     "metadata": {},
     "output_type": "execute_result"
    }
   ],
   "source": [
    "# probability of flipping a head exactly 3 times\n",
    "\n",
    "prob3H = three_heads.astype(int).mean()\n",
    "round(prob3H, 4)"
   ]
  },
  {
   "cell_type": "code",
   "execution_count": null,
   "id": "fadd2eef",
   "metadata": {},
   "outputs": [],
   "source": []
  },
  {
   "cell_type": "code",
   "execution_count": 49,
   "id": "37eb8b03",
   "metadata": {},
   "outputs": [
    {
     "data": {
      "text/plain": [
       "array([False,  True,  True, ...,  True,  True,  True])"
      ]
     },
     "execution_count": 49,
     "metadata": {},
     "output_type": "execute_result"
    }
   ],
   "source": [
    "more_than_3H = sums_of_flips > 3\n",
    "more_than_3H"
   ]
  },
  {
   "cell_type": "code",
   "execution_count": 51,
   "id": "7c093e3c",
   "metadata": {},
   "outputs": [
    {
     "data": {
      "text/plain": [
       "0.6567"
      ]
     },
     "execution_count": 51,
     "metadata": {},
     "output_type": "execute_result"
    }
   ],
   "source": [
    "# probability of flipping a head more than 3 times\n",
    "\n",
    "prob_more_than_3H = more_than_3H.astype(int).mean()\n",
    "round(prob_more_than_3H, 4)"
   ]
  },
  {
   "cell_type": "code",
   "execution_count": null,
   "id": "8020b2a3",
   "metadata": {},
   "outputs": [],
   "source": []
  },
  {
   "cell_type": "markdown",
   "id": "de86c181",
   "metadata": {},
   "source": [
    "#### 3 / There are approximitely 3 web development cohorts for every 1 data science cohort at Codeup. \n",
    "   Assuming that Codeup randomly selects an alumni to put on a billboard, what are the odds that the two billboards past  \n",
    "   which I drive both have data science students on them ?"
   ]
  },
  {
   "cell_type": "code",
   "execution_count": 91,
   "id": "dd9980c0",
   "metadata": {},
   "outputs": [],
   "source": [
    "p_ds_student = 0.25\n",
    "\n",
    "# two columns : two billboards\n",
    "nbillboards = ncols = 2\n",
    "\n",
    "\n",
    "n_simulated_bboards = nrows = 10 ** 5"
   ]
  },
  {
   "cell_type": "code",
   "execution_count": 110,
   "id": "10ab2e08",
   "metadata": {},
   "outputs": [
    {
     "data": {
      "text/plain": [
       "array([[0.9745262 , 0.56478516],\n",
       "       [0.65743771, 0.26454187],\n",
       "       [0.79672006, 0.38951768],\n",
       "       ...,\n",
       "       [0.98351198, 0.0744022 ],\n",
       "       [0.93504204, 0.16722165],\n",
       "       [0.04335091, 0.28693399]])"
      ]
     },
     "execution_count": 110,
     "metadata": {},
     "output_type": "execute_result"
    }
   ],
   "source": [
    "data = np.random.random((nrows, ncols))\n",
    "data"
   ]
  },
  {
   "cell_type": "code",
   "execution_count": 111,
   "id": "9e54c5ca",
   "metadata": {},
   "outputs": [
    {
     "data": {
      "text/plain": [
       "array([[False, False],\n",
       "       [False, False],\n",
       "       [False, False],\n",
       "       ...,\n",
       "       [False,  True],\n",
       "       [False,  True],\n",
       "       [ True, False]])"
      ]
     },
     "execution_count": 111,
     "metadata": {},
     "output_type": "execute_result"
    }
   ],
   "source": [
    "# how many ds billboards occured, using the generated, random value ?\n",
    "\n",
    "ds_student = data < p_ds_student\n",
    "ds_student"
   ]
  },
  {
   "cell_type": "code",
   "execution_count": 112,
   "id": "dd07f642",
   "metadata": {},
   "outputs": [
    {
     "data": {
      "text/plain": [
       "0.250635"
      ]
     },
     "execution_count": 112,
     "metadata": {},
     "output_type": "execute_result"
    }
   ],
   "source": [
    "# returns the probability of passing billboards with a ds student\n",
    "\n",
    "data_face = ds_student.astype(int).mean()\n",
    "data_face"
   ]
  },
  {
   "cell_type": "code",
   "execution_count": 113,
   "id": "215be760",
   "metadata": {},
   "outputs": [
    {
     "data": {
      "text/plain": [
       "0.250635"
      ]
     },
     "execution_count": 113,
     "metadata": {},
     "output_type": "execute_result"
    }
   ],
   "source": [
    "data_face.sum()"
   ]
  },
  {
   "cell_type": "code",
   "execution_count": 114,
   "id": "97c1d36f",
   "metadata": {},
   "outputs": [
    {
     "data": {
      "text/plain": [
       "0.06322"
      ]
     },
     "execution_count": 114,
     "metadata": {},
     "output_type": "execute_result"
    }
   ],
   "source": [
    "# probability of two billboards with a data science student on each\n",
    "\n",
    "(ds_student.sum(axis = 1) == 2).mean()"
   ]
  },
  {
   "cell_type": "code",
   "execution_count": null,
   "id": "7f7092fa",
   "metadata": {},
   "outputs": [],
   "source": []
  },
  {
   "cell_type": "code",
   "execution_count": null,
   "id": "d04ffa8c",
   "metadata": {},
   "outputs": [],
   "source": []
  },
  {
   "cell_type": "markdown",
   "id": "b6eb42c7",
   "metadata": {},
   "source": [
    "####  4 / Codeup students buy, daily, on average, 3 poptart packages, with a standard deviation of 1.5 a day, from the snack vending machine.  \n",
    "If, on Monday, the machine is restocked with 17 poptart packages, how likely is it that a person will be able to buy some poptarts on Friday afternoon?   \n",
    "\n",
    "(Remember, if you have the mean and the standard deviation, use the np.random.normal .) You'll need to make a judgement call on how to handle some of your values."
   ]
  },
  {
   "cell_type": "code",
   "execution_count": 122,
   "id": "0f7053c0",
   "metadata": {},
   "outputs": [
    {
     "data": {
      "text/plain": [
       "-0.3312850592924172"
      ]
     },
     "execution_count": 122,
     "metadata": {},
     "output_type": "execute_result"
    }
   ],
   "source": [
    "n_poptarts = nrows = 17\n",
    "# represents no of poptarts on Monday\n",
    "\n",
    "n_sold = ncols = 3\n",
    "# represents number of poptarts sold on a given day\n",
    "\n",
    "# using random choice to select from provided-below list.\n",
    "\n",
    "# we will need n_trials * n_dice\n",
    "\n",
    "vending = np.random.normal()\n",
    "\n",
    "# reshape into rows of 3 columns\n",
    "vending"
   ]
  },
  {
   "cell_type": "code",
   "execution_count": null,
   "id": "ede1b5ec",
   "metadata": {},
   "outputs": [],
   "source": []
  },
  {
   "cell_type": "code",
   "execution_count": null,
   "id": "d4f72390",
   "metadata": {},
   "outputs": [],
   "source": []
  }
 ],
 "metadata": {
  "kernelspec": {
   "display_name": "Python 3 (ipykernel)",
   "language": "python",
   "name": "python3"
  },
  "language_info": {
   "codemirror_mode": {
    "name": "ipython",
    "version": 3
   },
   "file_extension": ".py",
   "mimetype": "text/x-python",
   "name": "python",
   "nbconvert_exporter": "python",
   "pygments_lexer": "ipython3",
   "version": "3.9.13"
  }
 },
 "nbformat": 4,
 "nbformat_minor": 5
}
