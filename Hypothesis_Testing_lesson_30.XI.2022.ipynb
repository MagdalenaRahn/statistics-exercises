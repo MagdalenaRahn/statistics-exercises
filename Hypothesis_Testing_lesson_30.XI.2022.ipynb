{
 "cells": [
  {
   "cell_type": "markdown",
   "id": "8463f12c",
   "metadata": {},
   "source": [
    "### Hypothesis Testing\n",
    "\n",
    "30 November 2022\n",
    "\n",
    "The Absurdity thesis\n",
    "\n",
    "Null hypothesis : relationship in the sample got there by chance.\n",
    "\n",
    "Alternate hypothesis : relationship in the sample did not occure by chance.\n",
    "\n",
    "2/ Set desired confidence level and calculate resulting alpha (max probability that relationship in sample is due to chance).  \n",
    "Confidence level is inversely proportionate to alpha. Added together, they equal 1.\n",
    "\n",
    "Anything lower than a 95% confidence level indicates lack of credulity for rsults.\n",
    "\n",
    "3/ Choose correct statistical test format.\n",
    "\n",
    "4/ Calculate test statistic and get resulting p-value\n",
    "\n",
    "P-value = probability that null hypothesis is true, given the observations in the sample.\n",
    "\n",
    "P-value > alpha : fail to reject hypothesis\n",
    "\n",
    "5/ 6/ ...\n",
    "\n",
    "    \\alpha\n",
    "    \\alpha"
   ]
  },
  {
   "cell_type": "markdown",
   "id": "04a77637",
   "metadata": {},
   "source": []
  },
  {
   "cell_type": "code",
   "execution_count": null,
   "id": "9bd304cd",
   "metadata": {},
   "outputs": [],
   "source": []
  }
 ],
 "metadata": {
  "kernelspec": {
   "display_name": "Python 3 (ipykernel)",
   "language": "python",
   "name": "python3"
  },
  "language_info": {
   "codemirror_mode": {
    "name": "ipython",
    "version": 3
   },
   "file_extension": ".py",
   "mimetype": "text/x-python",
   "name": "python",
   "nbconvert_exporter": "python",
   "pygments_lexer": "ipython3",
   "version": "3.9.13"
  }
 },
 "nbformat": 4,
 "nbformat_minor": 5
}
